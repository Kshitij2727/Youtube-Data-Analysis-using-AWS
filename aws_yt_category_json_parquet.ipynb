{
 "cells": [
  {
   "cell_type": "code",
   "execution_count": 1,
   "id": "f0b60fd0",
   "metadata": {},
   "outputs": [
    {
     "data": {
      "application/vnd.jupyter.widget-view+json": {
       "model_id": "1b42ee13565645f5933a9961b4e0460c",
       "version_major": 2,
       "version_minor": 0
      },
      "text/plain": [
       "VBox()"
      ]
     },
     "metadata": {},
     "output_type": "display_data"
    },
    {
     "name": "stdout",
     "output_type": "stream",
     "text": [
      "Starting Spark application\n"
     ]
    },
    {
     "data": {
      "text/html": [
       "<table>\n",
       "<tr><th>ID</th><th>YARN Application ID</th><th>Kind</th><th>State</th><th>Spark UI</th><th>Driver log</th><th>User</th><th>Current session?</th></tr><tr><td>7</td><td>application_1666855970919_0008</td><td>pyspark</td><td>idle</td><td><a target=\"_blank\" href=\"http://ip-172-31-2-8.ap-south-1.compute.internal:20888/proxy/application_1666855970919_0008/\" class=\"emr-proxy-link\" emr-resource=\"j-2C3NZE91A8TTS\n",
       "\" application-id=\"application_1666855970919_0008\">Link</a></td><td><a target=\"_blank\" href=\"http://ip-172-31-12-59.ap-south-1.compute.internal:8042/node/containerlogs/container_1666855970919_0008_01_000001/livy\" >Link</a></td><td>None</td><td>✔</td></tr></table>"
      ],
      "text/plain": [
       "<IPython.core.display.HTML object>"
      ]
     },
     "metadata": {},
     "output_type": "display_data"
    },
    {
     "data": {
      "application/vnd.jupyter.widget-view+json": {
       "model_id": "",
       "version_major": 2,
       "version_minor": 0
      },
      "text/plain": [
       "FloatProgress(value=0.0, bar_style='info', description='Progress:', layout=Layout(height='25px', width='50%'),…"
      ]
     },
     "metadata": {},
     "output_type": "display_data"
    },
    {
     "name": "stdout",
     "output_type": "stream",
     "text": [
      "SparkSession available as 'spark'.\n"
     ]
    },
    {
     "data": {
      "application/vnd.jupyter.widget-view+json": {
       "model_id": "",
       "version_major": 2,
       "version_minor": 0
      },
      "text/plain": [
       "FloatProgress(value=0.0, bar_style='info', description='Progress:', layout=Layout(height='25px', width='50%'),…"
      ]
     },
     "metadata": {},
     "output_type": "display_data"
    },
    {
     "name": "stdout",
     "output_type": "stream",
     "text": [
      "Spark object created"
     ]
    }
   ],
   "source": [
    "from pyspark.sql import SparkSession\n",
    "def get_spark():\n",
    "    spark = SparkSession.builder.appName('SparkDelta') \\\n",
    "        .config(\"spark.hadoop.fs.s3a.impl\", \"org.apache.hadoop.fs.s3a.S3AFileSystem\") \\\n",
    "        .config(\"spark.jars.packages\",\n",
    "                \"org.apache.hadoop:hadoop-aws:3.2.2,\"\n",
    "                \"com.amazonaws:aws-java-sdk-bundle:1.12.180\") \\\n",
    "        .getOrCreate()\n",
    "# This is mandate config on spark session to use AWS S3\n",
    "    spark._jsc.hadoopConfiguration().set(\"com.amazonaws.services.s3.enableV4\", \"true\")\n",
    "    spark._jsc.hadoopConfiguration().set(\"fs.s3a.impl\", \"org.apache.hadoop.fs.s3a.S3AFileSystem\")\n",
    "    spark._jsc.hadoopConfiguration().set(\"fs.s3a.aws.credentials.provider\",\"com.amazonaws.auth.InstanceProfileCredentialsProvider,com.amazonaws.auth.DefaultAWSCredentialsProviderChain\")\n",
    "    spark._jsc.hadoopConfiguration().set(\"fs.AbstractFileSystem.s3a.impl\", \"org.apache.hadoop.fs.s3a.S3A\")\n",
    "# spark.sparkContext.setLogLevel(\"DEBUG\")\n",
    "    return spark\n",
    "spark = get_spark()\n",
    "print(\"Spark object created\")"
   ]
  },
  {
   "cell_type": "code",
   "execution_count": 2,
   "id": "6d0150f1",
   "metadata": {},
   "outputs": [
    {
     "data": {
      "application/vnd.jupyter.widget-view+json": {
       "model_id": "d7a9c77b7b52460db91a53dfecb57340",
       "version_major": 2,
       "version_minor": 0
      },
      "text/plain": [
       "VBox()"
      ]
     },
     "metadata": {},
     "output_type": "display_data"
    },
    {
     "data": {
      "application/vnd.jupyter.widget-view+json": {
       "model_id": "",
       "version_major": 2,
       "version_minor": 0
      },
      "text/plain": [
       "FloatProgress(value=0.0, bar_style='info', description='Progress:', layout=Layout(height='25px', width='50%'),…"
      ]
     },
     "metadata": {},
     "output_type": "display_data"
    }
   ],
   "source": [
    "# File location and type\n",
    "file_location = \"s3a://youtube-dataset-kshitij/input/category/*.json\"\n",
    "file_type = \"json\"\n",
    "\n",
    "# options\n",
    "infer_schema = \"false\"\n",
    "first_row_is_header = \"false\"\n",
    "\n",
    "category_df = spark.read.format(file_type) \\\n",
    "  .option(\"inferSchema\", infer_schema) \\\n",
    "  .option(\"header\", first_row_is_header) \\\n",
    "  .option(\"multiline\",\"true\") \\\n",
    "  .load(file_location)"
   ]
  },
  {
   "cell_type": "code",
   "execution_count": 3,
   "id": "e4a4d4bb",
   "metadata": {},
   "outputs": [
    {
     "data": {
      "application/vnd.jupyter.widget-view+json": {
       "model_id": "2767a970ea0944eda4b21d6efb49a40c",
       "version_major": 2,
       "version_minor": 0
      },
      "text/plain": [
       "VBox()"
      ]
     },
     "metadata": {},
     "output_type": "display_data"
    },
    {
     "data": {
      "application/vnd.jupyter.widget-view+json": {
       "model_id": "",
       "version_major": 2,
       "version_minor": 0
      },
      "text/plain": [
       "FloatProgress(value=0.0, bar_style='info', description='Progress:', layout=Layout(height='25px', width='50%'),…"
      ]
     },
     "metadata": {},
     "output_type": "display_data"
    },
    {
     "name": "stdout",
     "output_type": "stream",
     "text": [
      "+--------------------+--------------------+--------------------+\n",
      "|                etag|               items|                kind|\n",
      "+--------------------+--------------------+--------------------+\n",
      "|\"m2yskBQFythfE4ir...|[{\"m2yskBQFythfE4...|youtube#videoCate...|\n",
      "|\"XI7nbFXulYBIpL0a...|[{\"XI7nbFXulYBIpL...|youtube#videoCate...|\n",
      "|\"ld9biNPKjAjgjV7E...|[{\"ld9biNPKjAjgjV...|youtube#videoCate...|\n",
      "|\"ld9biNPKjAjgjV7E...|[{\"ld9biNPKjAjgjV...|youtube#videoCate...|\n",
      "+--------------------+--------------------+--------------------+"
     ]
    }
   ],
   "source": [
    "category_df.show()"
   ]
  },
  {
   "cell_type": "code",
   "execution_count": 4,
   "id": "42a894f7",
   "metadata": {},
   "outputs": [
    {
     "data": {
      "application/vnd.jupyter.widget-view+json": {
       "model_id": "f63a31572c64498aa779f825489d64e8",
       "version_major": 2,
       "version_minor": 0
      },
      "text/plain": [
       "VBox()"
      ]
     },
     "metadata": {},
     "output_type": "display_data"
    },
    {
     "data": {
      "application/vnd.jupyter.widget-view+json": {
       "model_id": "",
       "version_major": 2,
       "version_minor": 0
      },
      "text/plain": [
       "FloatProgress(value=0.0, bar_style='info', description='Progress:', layout=Layout(height='25px', width='50%'),…"
      ]
     },
     "metadata": {},
     "output_type": "display_data"
    },
    {
     "name": "stdout",
     "output_type": "stream",
     "text": [
      "root\n",
      " |-- etag: string (nullable = true)\n",
      " |-- items: array (nullable = true)\n",
      " |    |-- element: struct (containsNull = true)\n",
      " |    |    |-- etag: string (nullable = true)\n",
      " |    |    |-- id: string (nullable = true)\n",
      " |    |    |-- kind: string (nullable = true)\n",
      " |    |    |-- snippet: struct (nullable = true)\n",
      " |    |    |    |-- assignable: boolean (nullable = true)\n",
      " |    |    |    |-- channelId: string (nullable = true)\n",
      " |    |    |    |-- title: string (nullable = true)\n",
      " |-- kind: string (nullable = true)"
     ]
    }
   ],
   "source": [
    "category_df.printSchema()"
   ]
  },
  {
   "cell_type": "code",
   "execution_count": 5,
   "id": "bd561f53",
   "metadata": {},
   "outputs": [
    {
     "data": {
      "application/vnd.jupyter.widget-view+json": {
       "model_id": "f86c4f07480f466ebf4bb0020e669cf1",
       "version_major": 2,
       "version_minor": 0
      },
      "text/plain": [
       "VBox()"
      ]
     },
     "metadata": {},
     "output_type": "display_data"
    },
    {
     "data": {
      "application/vnd.jupyter.widget-view+json": {
       "model_id": "",
       "version_major": 2,
       "version_minor": 0
      },
      "text/plain": [
       "FloatProgress(value=0.0, bar_style='info', description='Progress:', layout=Layout(height='25px', width='50%'),…"
      ]
     },
     "metadata": {},
     "output_type": "display_data"
    },
    {
     "name": "stdout",
     "output_type": "stream",
     "text": [
      "+---+--------------------+----------------+--------------------+\n",
      "| id|                kind|           title|           channelId|\n",
      "+---+--------------------+----------------+--------------------+\n",
      "|  1|youtube#videoCate...|Film & Animation|UCBR8-60-B28hp2Bm...|\n",
      "|  2|youtube#videoCate...|Autos & Vehicles|UCBR8-60-B28hp2Bm...|\n",
      "| 10|youtube#videoCate...|           Music|UCBR8-60-B28hp2Bm...|\n",
      "| 15|youtube#videoCate...|  Pets & Animals|UCBR8-60-B28hp2Bm...|\n",
      "| 17|youtube#videoCate...|          Sports|UCBR8-60-B28hp2Bm...|\n",
      "+---+--------------------+----------------+--------------------+\n",
      "only showing top 5 rows"
     ]
    }
   ],
   "source": [
    "from pyspark.sql import functions as f\n",
    "all_category_df = category_df.withColumn(\"items_exploded\",f.explode(\"items\")) \\\n",
    "    .drop('items') \\\n",
    "    .select(\"items_exploded.id\",\"items_exploded.kind\",\"items_exploded.snippet.title\",\"items_exploded.snippet.channelId\")\n",
    "all_category_df.show(5)"
   ]
  },
  {
   "cell_type": "code",
   "execution_count": 6,
   "id": "7b436d05",
   "metadata": {},
   "outputs": [
    {
     "data": {
      "application/vnd.jupyter.widget-view+json": {
       "model_id": "a55a102904194b5db805c770e7838403",
       "version_major": 2,
       "version_minor": 0
      },
      "text/plain": [
       "VBox()"
      ]
     },
     "metadata": {},
     "output_type": "display_data"
    },
    {
     "data": {
      "application/vnd.jupyter.widget-view+json": {
       "model_id": "",
       "version_major": 2,
       "version_minor": 0
      },
      "text/plain": [
       "FloatProgress(value=0.0, bar_style='info', description='Progress:', layout=Layout(height='25px', width='50%'),…"
      ]
     },
     "metadata": {},
     "output_type": "display_data"
    },
    {
     "name": "stdout",
     "output_type": "stream",
     "text": [
      "125"
     ]
    }
   ],
   "source": [
    "all_category_df.count()"
   ]
  },
  {
   "cell_type": "code",
   "execution_count": 7,
   "id": "b874c477",
   "metadata": {},
   "outputs": [
    {
     "data": {
      "application/vnd.jupyter.widget-view+json": {
       "model_id": "7ae532e25f844d29a2b4dbafd28d57fe",
       "version_major": 2,
       "version_minor": 0
      },
      "text/plain": [
       "VBox()"
      ]
     },
     "metadata": {},
     "output_type": "display_data"
    },
    {
     "data": {
      "application/vnd.jupyter.widget-view+json": {
       "model_id": "",
       "version_major": 2,
       "version_minor": 0
      },
      "text/plain": [
       "FloatProgress(value=0.0, bar_style='info', description='Progress:', layout=Layout(height='25px', width='50%'),…"
      ]
     },
     "metadata": {},
     "output_type": "display_data"
    },
    {
     "name": "stdout",
     "output_type": "stream",
     "text": [
      "+---+--------------------+--------------------+--------------------+\n",
      "| id|                kind|               title|           channelId|\n",
      "+---+--------------------+--------------------+--------------------+\n",
      "| 31|youtube#videoCate...|     Anime/Animation|UCBR8-60-B28hp2Bm...|\n",
      "|  2|youtube#videoCate...|    Autos & Vehicles|UCBR8-60-B28hp2Bm...|\n",
      "| 44|youtube#videoCate...|            Trailers|UCBR8-60-B28hp2Bm...|\n",
      "| 39|youtube#videoCate...|              Horror|UCBR8-60-B28hp2Bm...|\n",
      "| 19|youtube#videoCate...|     Travel & Events|UCBR8-60-B28hp2Bm...|\n",
      "| 30|youtube#videoCate...|              Movies|UCBR8-60-B28hp2Bm...|\n",
      "| 36|youtube#videoCate...|               Drama|UCBR8-60-B28hp2Bm...|\n",
      "| 18|youtube#videoCate...|        Short Movies|UCBR8-60-B28hp2Bm...|\n",
      "| 27|youtube#videoCate...|           Education|UCBR8-60-B28hp2Bm...|\n",
      "| 21|youtube#videoCate...|       Videoblogging|UCBR8-60-B28hp2Bm...|\n",
      "| 33|youtube#videoCate...|            Classics|UCBR8-60-B28hp2Bm...|\n",
      "| 24|youtube#videoCate...|       Entertainment|UCBR8-60-B28hp2Bm...|\n",
      "| 28|youtube#videoCate...|Science & Technology|UCBR8-60-B28hp2Bm...|\n",
      "| 32|youtube#videoCate...|    Action/Adventure|UCBR8-60-B28hp2Bm...|\n",
      "| 22|youtube#videoCate...|      People & Blogs|UCBR8-60-B28hp2Bm...|\n",
      "| 38|youtube#videoCate...|             Foreign|UCBR8-60-B28hp2Bm...|\n",
      "| 10|youtube#videoCate...|               Music|UCBR8-60-B28hp2Bm...|\n",
      "| 42|youtube#videoCate...|              Shorts|UCBR8-60-B28hp2Bm...|\n",
      "| 17|youtube#videoCate...|              Sports|UCBR8-60-B28hp2Bm...|\n",
      "|  1|youtube#videoCate...|    Film & Animation|UCBR8-60-B28hp2Bm...|\n",
      "+---+--------------------+--------------------+--------------------+\n",
      "only showing top 20 rows\n",
      "\n",
      "32"
     ]
    }
   ],
   "source": [
    "distinct_all_category_df = all_category_df.distinct()\n",
    "distinct_all_category_df.show()\n",
    "distinct_all_category_df.count()"
   ]
  },
  {
   "cell_type": "code",
   "execution_count": 8,
   "id": "1d7f1855",
   "metadata": {},
   "outputs": [
    {
     "data": {
      "application/vnd.jupyter.widget-view+json": {
       "model_id": "422642b545d84776ac3841d4f932d8fb",
       "version_major": 2,
       "version_minor": 0
      },
      "text/plain": [
       "VBox()"
      ]
     },
     "metadata": {},
     "output_type": "display_data"
    },
    {
     "data": {
      "application/vnd.jupyter.widget-view+json": {
       "model_id": "",
       "version_major": 2,
       "version_minor": 0
      },
      "text/plain": [
       "FloatProgress(value=0.0, bar_style='info', description='Progress:', layout=Layout(height='25px', width='50%'),…"
      ]
     },
     "metadata": {},
     "output_type": "display_data"
    },
    {
     "name": "stdout",
     "output_type": "stream",
     "text": [
      "+---+--------------------+\n",
      "| id|               title|\n",
      "+---+--------------------+\n",
      "| 31|     Anime/Animation|\n",
      "|  2|    Autos & Vehicles|\n",
      "| 44|            Trailers|\n",
      "| 39|              Horror|\n",
      "| 19|     Travel & Events|\n",
      "| 30|              Movies|\n",
      "| 36|               Drama|\n",
      "| 18|        Short Movies|\n",
      "| 27|           Education|\n",
      "| 21|       Videoblogging|\n",
      "| 33|            Classics|\n",
      "| 24|       Entertainment|\n",
      "| 28|Science & Technology|\n",
      "| 32|    Action/Adventure|\n",
      "| 22|      People & Blogs|\n",
      "| 38|             Foreign|\n",
      "| 10|               Music|\n",
      "| 42|              Shorts|\n",
      "| 17|              Sports|\n",
      "|  1|    Film & Animation|\n",
      "+---+--------------------+\n",
      "only showing top 20 rows"
     ]
    }
   ],
   "source": [
    "final_df = distinct_all_category_df.select(\"id\",\"title\")\n",
    "final_df.show()"
   ]
  },
  {
   "cell_type": "code",
   "execution_count": 9,
   "id": "8550f423",
   "metadata": {},
   "outputs": [
    {
     "data": {
      "application/vnd.jupyter.widget-view+json": {
       "model_id": "18e407b1b6974e2b9c1d92b8d90923b6",
       "version_major": 2,
       "version_minor": 0
      },
      "text/plain": [
       "VBox()"
      ]
     },
     "metadata": {},
     "output_type": "display_data"
    },
    {
     "data": {
      "application/vnd.jupyter.widget-view+json": {
       "model_id": "",
       "version_major": 2,
       "version_minor": 0
      },
      "text/plain": [
       "FloatProgress(value=0.0, bar_style='info', description='Progress:', layout=Layout(height='25px', width='50%'),…"
      ]
     },
     "metadata": {},
     "output_type": "display_data"
    },
    {
     "name": "stdout",
     "output_type": "stream",
     "text": [
      "root\n",
      " |-- id: integer (nullable = true)\n",
      " |-- title: string (nullable = true)"
     ]
    }
   ],
   "source": [
    "#Casting the column 'id' to int and printing schema\n",
    "final_df = final_df.select(final_df.id.cast(\"int\"),\"title\")\n",
    "final_df.printSchema()"
   ]
  },
  {
   "cell_type": "code",
   "execution_count": 10,
   "id": "0338cd3e",
   "metadata": {},
   "outputs": [
    {
     "data": {
      "application/vnd.jupyter.widget-view+json": {
       "model_id": "1d9213fdfb02449eb279d7b4844ddcbc",
       "version_major": 2,
       "version_minor": 0
      },
      "text/plain": [
       "VBox()"
      ]
     },
     "metadata": {},
     "output_type": "display_data"
    },
    {
     "data": {
      "application/vnd.jupyter.widget-view+json": {
       "model_id": "",
       "version_major": 2,
       "version_minor": 0
      },
      "text/plain": [
       "FloatProgress(value=0.0, bar_style='info', description='Progress:', layout=Layout(height='25px', width='50%'),…"
      ]
     },
     "metadata": {},
     "output_type": "display_data"
    }
   ],
   "source": [
    "final_df.write.parquet(\"s3a://youtube-dataset-kshitij/output/category\")"
   ]
  },
  {
   "cell_type": "code",
   "execution_count": null,
   "id": "bacaf0c4",
   "metadata": {},
   "outputs": [],
   "source": []
  }
 ],
 "metadata": {
  "kernelspec": {
   "display_name": "PySpark",
   "language": "python",
   "name": "pysparkkernel"
  },
  "language_info": {
   "codemirror_mode": {
    "name": "python",
    "version": 3
   },
   "file_extension": ".py",
   "mimetype": "text/x-python",
   "name": "pyspark",
   "pygments_lexer": "python3"
  }
 },
 "nbformat": 4,
 "nbformat_minor": 5
}
