{
 "cells": [
  {
   "cell_type": "code",
   "execution_count": 1,
   "id": "cb2ec556",
   "metadata": {},
   "outputs": [
    {
     "data": {
      "application/vnd.jupyter.widget-view+json": {
       "model_id": "eaa52f135ef1479b967d5c981df67bee",
       "version_major": 2,
       "version_minor": 0
      },
      "text/plain": [
       "VBox()"
      ]
     },
     "metadata": {},
     "output_type": "display_data"
    },
    {
     "name": "stdout",
     "output_type": "stream",
     "text": [
      "Starting Spark application\n"
     ]
    },
    {
     "data": {
      "text/html": [
       "<table>\n",
       "<tr><th>ID</th><th>YARN Application ID</th><th>Kind</th><th>State</th><th>Spark UI</th><th>Driver log</th><th>User</th><th>Current session?</th></tr><tr><td>0</td><td>application_1666882784054_0001</td><td>pyspark</td><td>idle</td><td><a target=\"_blank\" href=\"http://ip-172-31-15-168.ap-south-1.compute.internal:20888/proxy/application_1666882784054_0001/\" class=\"emr-proxy-link\" emr-resource=\"j-3HZ8RC65FSXJE\n",
       "\" application-id=\"application_1666882784054_0001\">Link</a></td><td><a target=\"_blank\" href=\"http://ip-172-31-10-93.ap-south-1.compute.internal:8042/node/containerlogs/container_1666882784054_0001_01_000001/livy\" >Link</a></td><td>None</td><td>✔</td></tr></table>"
      ],
      "text/plain": [
       "<IPython.core.display.HTML object>"
      ]
     },
     "metadata": {},
     "output_type": "display_data"
    },
    {
     "data": {
      "application/vnd.jupyter.widget-view+json": {
       "model_id": "",
       "version_major": 2,
       "version_minor": 0
      },
      "text/plain": [
       "FloatProgress(value=0.0, bar_style='info', description='Progress:', layout=Layout(height='25px', width='50%'),…"
      ]
     },
     "metadata": {},
     "output_type": "display_data"
    },
    {
     "name": "stdout",
     "output_type": "stream",
     "text": [
      "SparkSession available as 'spark'.\n"
     ]
    },
    {
     "data": {
      "application/vnd.jupyter.widget-view+json": {
       "model_id": "",
       "version_major": 2,
       "version_minor": 0
      },
      "text/plain": [
       "FloatProgress(value=0.0, bar_style='info', description='Progress:', layout=Layout(height='25px', width='50%'),…"
      ]
     },
     "metadata": {},
     "output_type": "display_data"
    },
    {
     "name": "stdout",
     "output_type": "stream",
     "text": [
      "Spark session created"
     ]
    }
   ],
   "source": [
    "from pyspark.sql import SparkSession\n",
    "def get_spark():\n",
    "    spark = SparkSession.builder.appName('Spark_YT_Videos') \\\n",
    "        .config(\"spark.hadoop.fs.s3a.impl\", \"org.apache.hadoop.fs.s3a.S3AFileSystem\") \\\n",
    "        .config(\"spark.jars.packages\",\n",
    "                \"org.apache.hadoop:hadoop-aws:3.2.2,\"\n",
    "                \"com.amazonaws:aws-java-sdk-bundle:1.12.180\") \\\n",
    "        .getOrCreate()\n",
    "# This is mandate config on spark session to use AWS S3\n",
    "    spark._jsc.hadoopConfiguration().set(\"com.amazonaws.services.s3.enableV4\", \"true\")\n",
    "    spark._jsc.hadoopConfiguration().set(\"fs.s3a.impl\", \"org.apache.hadoop.fs.s3a.S3AFileSystem\")\n",
    "    spark._jsc.hadoopConfiguration().set(\"fs.s3a.aws.credentials.provider\",\"com.amazonaws.auth.InstanceProfileCredentialsProvider,com.amazonaws.auth.DefaultAWSCredentialsProviderChain\")\n",
    "    spark._jsc.hadoopConfiguration().set(\"fs.AbstractFileSystem.s3a.impl\", \"org.apache.hadoop.fs.s3a.S3A\")\n",
    "# spark.sparkContext.setLogLevel(\"DEBUG\")\n",
    "    return spark\n",
    "spark = get_spark()\n",
    "print(\"Spark session created\")"
   ]
  },
  {
   "cell_type": "code",
   "execution_count": 8,
   "id": "7f1e04c5",
   "metadata": {},
   "outputs": [
    {
     "data": {
      "application/vnd.jupyter.widget-view+json": {
       "model_id": "b9ecd8eaaf8846718ba20d152a5cc0a8",
       "version_major": 2,
       "version_minor": 0
      },
      "text/plain": [
       "VBox()"
      ]
     },
     "metadata": {},
     "output_type": "display_data"
    },
    {
     "data": {
      "application/vnd.jupyter.widget-view+json": {
       "model_id": "",
       "version_major": 2,
       "version_minor": 0
      },
      "text/plain": [
       "FloatProgress(value=0.0, bar_style='info', description='Progress:', layout=Layout(height='25px', width='50%'),…"
      ]
     },
     "metadata": {},
     "output_type": "display_data"
    }
   ],
   "source": [
    "from pyspark.sql import functions as f\n",
    "\n",
    "# File location and type\n",
    "file_location = \"s3a://youtube-dataset-kshitij/input/videos/*.csv\"\n",
    "file_type = \"csv\"\n",
    "\n",
    "# CSV options\n",
    "infer_schema = \"true\"\n",
    "first_row_is_header = \"true\"\n",
    "delimiter = \",\"\n",
    "\n",
    "# The applied options are for CSV files. For other file types, these will be ignored.\n",
    "videos_df = spark.read.format(file_type) \\\n",
    "  .option(\"inferSchema\", infer_schema) \\\n",
    "  .option(\"header\", first_row_is_header) \\\n",
    "  .option(\"sep\", delimiter) \\\n",
    "  .option(\"schema\",videos_schema) \\\n",
    "  .load(file_location)"
   ]
  },
  {
   "cell_type": "code",
   "execution_count": 9,
   "id": "bce87bec",
   "metadata": {},
   "outputs": [
    {
     "data": {
      "application/vnd.jupyter.widget-view+json": {
       "model_id": "1ad0625959544403ba52dc4d81d0d279",
       "version_major": 2,
       "version_minor": 0
      },
      "text/plain": [
       "VBox()"
      ]
     },
     "metadata": {},
     "output_type": "display_data"
    },
    {
     "data": {
      "application/vnd.jupyter.widget-view+json": {
       "model_id": "",
       "version_major": 2,
       "version_minor": 0
      },
      "text/plain": [
       "FloatProgress(value=0.0, bar_style='info', description='Progress:', layout=Layout(height='25px', width='50%'),…"
      ]
     },
     "metadata": {},
     "output_type": "display_data"
    },
    {
     "name": "stdout",
     "output_type": "stream",
     "text": [
      "+-----------+-------------+----------------------+--------------------+-----------+--------------------+------------------------------+--------+-------+--------+-------------+--------------------+-----------------+----------------+----------------------+--------------------+\n",
      "|   video_id|trending_date|                 title|       channel_title|category_id|        publish_time|                          tags|   views|  likes|dislikes|comment_count|      thumbnail_link|comments_disabled|ratings_disabled|video_error_or_removed|         description|\n",
      "+-----------+-------------+----------------------+--------------------+-----------+--------------------+------------------------------+--------+-------+--------+-------------+--------------------+-----------------+----------------+----------------------+--------------------+\n",
      "|n1WpP7iowLc|     17.14.11|  Eminem - Walk On ...|          EminemVEVO|         10|2017-11-10T17:00:...|          \"Eminem\"|\"Walk\"|\"...|17158579| 787425|   43420|       125882|https://i.ytimg.c...|            False|           False|                 False|Eminem's new trac...|\n",
      "|0dBIkQ4Mz1M|     17.14.11|  PLUSH - Bad Unbox...|           iDubbbzTV|         23|2017-11-13T17:00:...|          \"plush\"|\"bad unbo...| 1014651| 127794|    1688|        13030|https://i.ytimg.c...|            False|           False|                 False|STill got a lot o...|\n",
      "|5qpjK5DgCt4|     17.14.11|  Racist Superman |...|        Rudy Mancuso|         23|2017-11-12T19:05:...|          \"racist superman\"...| 3191434| 146035|    5339|         8181|https://i.ytimg.c...|            False|           False|                 False|WATCH MY PREVIOUS...|\n",
      "|d380meD0W0M|     17.14.11|  I Dare You: GOING...|            nigahiga|         24|2017-11-12T18:01:...|          \"ryan\"|\"higa\"|\"hi...| 2095828| 132239|    1989|        17518|https://i.ytimg.c...|            False|           False|                 False|I know it's been ...|\n",
      "|2Vv-BfVoq4g|     17.14.11|  Ed Sheeran - Perf...|          Ed Sheeran|         10|2017-11-09T11:04:...|          \"edsheeran\"|\"ed s...|33523622|1634130|   21082|        85067|https://i.ytimg.c...|            False|           False|                 False|🎧: https://ad.gt...|\n",
      "|0yIWz1XEeyc|     17.14.11|  Jake Paul Says Al...|          DramaAlert|         25|2017-11-13T07:37:...|          \"#DramaAlert\"|\"Dr...| 1309699| 103755|    4613|        12143|https://i.ytimg.c...|            False|           False|                 False|► Follow for News...|\n",
      "|_uM5kFfkhB8|     17.14.11|  Vanoss Superhero ...|        VanossGaming|         23|2017-11-12T23:52:...|          \"Funny Moments\"|\"...| 2987945| 187464|    9850|        26629|https://i.ytimg.c...|            False|           False|                 False|Vanoss Merch Shop...|\n",
      "|2kyS6SvSYSE|     17.14.11|  WE WANT TO TALK A...|        CaseyNeistat|         22|2017-11-13T17:13:...|               SHANtell martin|  748374|  57534|    2967|        15959|https://i.ytimg.c...|            False|           False|                 False|SHANTELL'S CHANNE...|\n",
      "|JzCsM1vtn78|     17.14.11|  THE LOGANG MADE H...|    Logan Paul Vlogs|         24|2017-11-12T20:19:...|          \"logan paul vlog\"...| 4477587| 292837|    4123|        36391|https://i.ytimg.c...|            False|           False|                 False|Join the movement...|\n",
      "|43sm-QwLcx4|     17.14.11|  Finally Sheldon i...|         Sheikh Musa|         22|2017-11-10T14:10:...|          \"God\"|\"Sheldon Co...|  505161|   4135|     976|         1484|https://i.ytimg.c...|            False|           False|                 False|Sheldon is roasti...|\n",
      "|H1KBHFXm2Bg|     17.14.11|  21 Savage - Bank ...|           21 Savage|         10|2017-11-10T19:00:...|          \"21 savage\"|\"bank...| 5068229| 263596|    8585|        28976|https://i.ytimg.c...|            False|           False|                 False|Watch the officia...|\n",
      "|U3xLOo-CNwo|     17.14.11|  12 Weird Ways To ...|         Troom Troom|         26|2017-11-12T15:00:...|          \"sneak food\"|\"how...| 3153224|  28451|    2285|         3312|https://i.ytimg.c...|            False|           False|                 False|Subscribe Here: h...|\n",
      "|FyZMnhUtLfE|     17.14.11|猎场 | Game Of Hunt...|            大劇獨播|          1|2017-11-12T16:00:...|\"電視劇\"|\"大陸電視劇\"|\"猎场...|  158815|    218|      30|          186|https://i.ytimg.c...|            False|           False|                 False|Thanks for watchi...|\n",
      "|7MxiQ4v0EnE|     17.14.11|  Daang ( Full Vide...|       Speed Records|         10|2017-11-11T16:41:...|          \"punjabi songs\"|\"...| 5718766| 127477|    7134|         8063|https://i.ytimg.c...|            False|           False|                 False|Song - Daang\\nSin...|\n",
      "|LUzsOyWp9lw|     17.14.11|  YOUTUBERS REACT T...|                 FBE|         24|2017-11-12T22:00:...|          \"twitter\"|\"top 10...|  960747|  31810|     668|         5335|https://i.ytimg.c...|            False|           False|                 False|CLICK TO SUBSCRIB...|\n",
      "|AS9-ITLhQxo|     17.14.11|  I Hired An MI6 Sp...|        BuzzFeedBlue|         22|2017-11-11T16:00:...|          \"buzzfeed\"|\"buzzf...| 1531218|  53961|    1697|         4277|https://i.ytimg.c...|            False|           False|                 False|In the Outsmarted...|\n",
      "|gifPYwArCVQ|     17.14.11|  Fake Pet Smart Em...|                NELK|         23|2017-11-13T01:30:...|          \"prank\"|\"pranks\"|...|  557883|  44558|     621|         9619|https://i.ytimg.c...|            False|           False|                 False|3 Days left to co...|\n",
      "|8NHA23f7LvU|     17.14.11|  Jason Momoa Wows ...|The Graham Norton...|         24|2017-11-10T19:06:...|          \"Graham Norton\"|\"...| 1496225|  16116|     236|          605|https://i.ytimg.c...|            False|           False|                 False|I think Sarah Mil...|\n",
      "|fy-CuCzaPp8|     17.14.11|  Rooster Teeth Ani...|       Rooster Teeth|          1|2017-11-13T14:00:...|          \"Rooster Teeth\"|\"...|  308568|  19541|      70|          495|https://i.ytimg.c...|            False|           False|                 False|Miles gets stuck ...|\n",
      "|kzwfHumJyYc|     17.14.11|  Sharry Mann: Cute...|     Lokdhun Punjabi|          1|2017-11-12T12:20:...|          \"sharry mann\"|\"sh...| 1096327|  33966|     798|          882|https://i.ytimg.c...|            False|           False|                 False|Presenting Sharry...|\n",
      "+-----------+-------------+----------------------+--------------------+-----------+--------------------+------------------------------+--------+-------+--------+-------------+--------------------+-----------------+----------------+----------------------+--------------------+\n",
      "only showing top 20 rows"
     ]
    }
   ],
   "source": [
    "videos_df.show()"
   ]
  },
  {
   "cell_type": "code",
   "execution_count": 10,
   "id": "69829988",
   "metadata": {},
   "outputs": [
    {
     "data": {
      "application/vnd.jupyter.widget-view+json": {
       "model_id": "363c1e645fba41698974e3697d49e60a",
       "version_major": 2,
       "version_minor": 0
      },
      "text/plain": [
       "VBox()"
      ]
     },
     "metadata": {},
     "output_type": "display_data"
    },
    {
     "data": {
      "application/vnd.jupyter.widget-view+json": {
       "model_id": "",
       "version_major": 2,
       "version_minor": 0
      },
      "text/plain": [
       "FloatProgress(value=0.0, bar_style='info', description='Progress:', layout=Layout(height='25px', width='50%'),…"
      ]
     },
     "metadata": {},
     "output_type": "display_data"
    },
    {
     "name": "stdout",
     "output_type": "stream",
     "text": [
      "root\n",
      " |-- video_id: string (nullable = true)\n",
      " |-- trending_date: string (nullable = true)\n",
      " |-- title: string (nullable = true)\n",
      " |-- channel_title: string (nullable = true)\n",
      " |-- category_id: string (nullable = true)\n",
      " |-- publish_time: string (nullable = true)\n",
      " |-- tags: string (nullable = true)\n",
      " |-- views: string (nullable = true)\n",
      " |-- likes: string (nullable = true)\n",
      " |-- dislikes: string (nullable = true)\n",
      " |-- comment_count: string (nullable = true)\n",
      " |-- thumbnail_link: string (nullable = true)\n",
      " |-- comments_disabled: string (nullable = true)\n",
      " |-- ratings_disabled: string (nullable = true)\n",
      " |-- video_error_or_removed: string (nullable = true)\n",
      " |-- description: string (nullable = true)"
     ]
    }
   ],
   "source": [
    "videos_df.printSchema()"
   ]
  },
  {
   "cell_type": "code",
   "execution_count": 11,
   "id": "446f5bee",
   "metadata": {},
   "outputs": [
    {
     "data": {
      "application/vnd.jupyter.widget-view+json": {
       "model_id": "52db97b295954cb69a85d287cf5d77d7",
       "version_major": 2,
       "version_minor": 0
      },
      "text/plain": [
       "VBox()"
      ]
     },
     "metadata": {},
     "output_type": "display_data"
    },
    {
     "data": {
      "application/vnd.jupyter.widget-view+json": {
       "model_id": "",
       "version_major": 2,
       "version_minor": 0
      },
      "text/plain": [
       "FloatProgress(value=0.0, bar_style='info', description='Progress:', layout=Layout(height='25px', width='50%'),…"
      ]
     },
     "metadata": {},
     "output_type": "display_data"
    },
    {
     "name": "stdout",
     "output_type": "stream",
     "text": [
      "178363"
     ]
    }
   ],
   "source": [
    "videos_df.count()"
   ]
  },
  {
   "cell_type": "code",
   "execution_count": 12,
   "id": "cf69b804",
   "metadata": {},
   "outputs": [
    {
     "data": {
      "application/vnd.jupyter.widget-view+json": {
       "model_id": "938230623ac046e088c79c1839272941",
       "version_major": 2,
       "version_minor": 0
      },
      "text/plain": [
       "VBox()"
      ]
     },
     "metadata": {},
     "output_type": "display_data"
    },
    {
     "data": {
      "application/vnd.jupyter.widget-view+json": {
       "model_id": "",
       "version_major": 2,
       "version_minor": 0
      },
      "text/plain": [
       "FloatProgress(value=0.0, bar_style='info', description='Progress:', layout=Layout(height='25px', width='50%'),…"
      ]
     },
     "metadata": {},
     "output_type": "display_data"
    },
    {
     "name": "stdout",
     "output_type": "stream",
     "text": [
      "+-------------+----------------------+--------------------+-----------+--------------------+--------+-------+--------+-------------+\n",
      "|trending_date|                 title|       channel_title|category_id|        publish_time|   views|  likes|dislikes|comment_count|\n",
      "+-------------+----------------------+--------------------+-----------+--------------------+--------+-------+--------+-------------+\n",
      "|     17.14.11|  Eminem - Walk On ...|          EminemVEVO|         10|2017-11-10T17:00:...|17158579| 787425|   43420|       125882|\n",
      "|     17.14.11|  PLUSH - Bad Unbox...|           iDubbbzTV|         23|2017-11-13T17:00:...| 1014651| 127794|    1688|        13030|\n",
      "|     17.14.11|  Racist Superman |...|        Rudy Mancuso|         23|2017-11-12T19:05:...| 3191434| 146035|    5339|         8181|\n",
      "|     17.14.11|  I Dare You: GOING...|            nigahiga|         24|2017-11-12T18:01:...| 2095828| 132239|    1989|        17518|\n",
      "|     17.14.11|  Ed Sheeran - Perf...|          Ed Sheeran|         10|2017-11-09T11:04:...|33523622|1634130|   21082|        85067|\n",
      "|     17.14.11|  Jake Paul Says Al...|          DramaAlert|         25|2017-11-13T07:37:...| 1309699| 103755|    4613|        12143|\n",
      "|     17.14.11|  Vanoss Superhero ...|        VanossGaming|         23|2017-11-12T23:52:...| 2987945| 187464|    9850|        26629|\n",
      "|     17.14.11|  WE WANT TO TALK A...|        CaseyNeistat|         22|2017-11-13T17:13:...|  748374|  57534|    2967|        15959|\n",
      "|     17.14.11|  THE LOGANG MADE H...|    Logan Paul Vlogs|         24|2017-11-12T20:19:...| 4477587| 292837|    4123|        36391|\n",
      "|     17.14.11|  Finally Sheldon i...|         Sheikh Musa|         22|2017-11-10T14:10:...|  505161|   4135|     976|         1484|\n",
      "|     17.14.11|  21 Savage - Bank ...|           21 Savage|         10|2017-11-10T19:00:...| 5068229| 263596|    8585|        28976|\n",
      "|     17.14.11|  12 Weird Ways To ...|         Troom Troom|         26|2017-11-12T15:00:...| 3153224|  28451|    2285|         3312|\n",
      "|     17.14.11|猎场 | Game Of Hunt...|            大劇獨播|          1|2017-11-12T16:00:...|  158815|    218|      30|          186|\n",
      "|     17.14.11|  Daang ( Full Vide...|       Speed Records|         10|2017-11-11T16:41:...| 5718766| 127477|    7134|         8063|\n",
      "|     17.14.11|  YOUTUBERS REACT T...|                 FBE|         24|2017-11-12T22:00:...|  960747|  31810|     668|         5335|\n",
      "|     17.14.11|  I Hired An MI6 Sp...|        BuzzFeedBlue|         22|2017-11-11T16:00:...| 1531218|  53961|    1697|         4277|\n",
      "|     17.14.11|  Fake Pet Smart Em...|                NELK|         23|2017-11-13T01:30:...|  557883|  44558|     621|         9619|\n",
      "|     17.14.11|  Jason Momoa Wows ...|The Graham Norton...|         24|2017-11-10T19:06:...| 1496225|  16116|     236|          605|\n",
      "|     17.14.11|  Rooster Teeth Ani...|       Rooster Teeth|          1|2017-11-13T14:00:...|  308568|  19541|      70|          495|\n",
      "|     17.14.11|  Sharry Mann: Cute...|     Lokdhun Punjabi|          1|2017-11-12T12:20:...| 1096327|  33966|     798|          882|\n",
      "+-------------+----------------------+--------------------+-----------+--------------------+--------+-------+--------+-------------+\n",
      "only showing top 20 rows"
     ]
    }
   ],
   "source": [
    "all_videos_df = videos_df.drop(\"tags\",\"thumbnail_link\",\"comments_disabled\",\"ratings_disabled\",\"description\",\"video_error_or_removed\",\"video_id\")\n",
    "all_videos_df.show()"
   ]
  },
  {
   "cell_type": "code",
   "execution_count": 13,
   "id": "878072b8",
   "metadata": {},
   "outputs": [
    {
     "data": {
      "application/vnd.jupyter.widget-view+json": {
       "model_id": "9786020f9b8f4b8abec4fcd5045b718b",
       "version_major": 2,
       "version_minor": 0
      },
      "text/plain": [
       "VBox()"
      ]
     },
     "metadata": {},
     "output_type": "display_data"
    },
    {
     "data": {
      "application/vnd.jupyter.widget-view+json": {
       "model_id": "",
       "version_major": 2,
       "version_minor": 0
      },
      "text/plain": [
       "FloatProgress(value=0.0, bar_style='info', description='Progress:', layout=Layout(height='25px', width='50%'),…"
      ]
     },
     "metadata": {},
     "output_type": "display_data"
    },
    {
     "name": "stdout",
     "output_type": "stream",
     "text": [
      "+-----------+----------------------+--------------------+------------+-------------------+-------------+--------+-------+--------+-------------+\n",
      "|category_id|                 title|       channel_title|publish_date|       publish_time|trending_date|   views|  likes|dislikes|comment_count|\n",
      "+-----------+----------------------+--------------------+------------+-------------------+-------------+--------+-------+--------+-------------+\n",
      "|         10|  Eminem - Walk On ...|          EminemVEVO|  2017-11-10|2017-11-10 17:00:03|   2017-11-14|17158579| 787425|   43420|       125882|\n",
      "|         23|  PLUSH - Bad Unbox...|           iDubbbzTV|  2017-11-13|2017-11-13 17:00:00|   2017-11-14| 1014651| 127794|    1688|        13030|\n",
      "|         23|  Racist Superman |...|        Rudy Mancuso|  2017-11-12|2017-11-12 19:05:24|   2017-11-14| 3191434| 146035|    5339|         8181|\n",
      "|         24|  I Dare You: GOING...|            nigahiga|  2017-11-12|2017-11-12 18:01:41|   2017-11-14| 2095828| 132239|    1989|        17518|\n",
      "|         10|  Ed Sheeran - Perf...|          Ed Sheeran|  2017-11-09|2017-11-09 11:04:14|   2017-11-14|33523622|1634130|   21082|        85067|\n",
      "|         25|  Jake Paul Says Al...|          DramaAlert|  2017-11-13|2017-11-13 07:37:51|   2017-11-14| 1309699| 103755|    4613|        12143|\n",
      "|         23|  Vanoss Superhero ...|        VanossGaming|  2017-11-12|2017-11-12 23:52:13|   2017-11-14| 2987945| 187464|    9850|        26629|\n",
      "|         22|  WE WANT TO TALK A...|        CaseyNeistat|  2017-11-13|2017-11-13 17:13:01|   2017-11-14|  748374|  57534|    2967|        15959|\n",
      "|         24|  THE LOGANG MADE H...|    Logan Paul Vlogs|  2017-11-12|2017-11-12 20:19:24|   2017-11-14| 4477587| 292837|    4123|        36391|\n",
      "|         22|  Finally Sheldon i...|         Sheikh Musa|  2017-11-10|2017-11-10 14:10:46|   2017-11-14|  505161|   4135|     976|         1484|\n",
      "|         10|  21 Savage - Bank ...|           21 Savage|  2017-11-10|2017-11-10 19:00:02|   2017-11-14| 5068229| 263596|    8585|        28976|\n",
      "|         26|  12 Weird Ways To ...|         Troom Troom|  2017-11-12|2017-11-12 15:00:05|   2017-11-14| 3153224|  28451|    2285|         3312|\n",
      "|          1|猎场 | Game Of Hunt...|            大劇獨播|  2017-11-12|2017-11-12 16:00:01|   2017-11-14|  158815|    218|      30|          186|\n",
      "|         10|  Daang ( Full Vide...|       Speed Records|  2017-11-11|2017-11-11 16:41:15|   2017-11-14| 5718766| 127477|    7134|         8063|\n",
      "|         24|  YOUTUBERS REACT T...|                 FBE|  2017-11-12|2017-11-12 22:00:01|   2017-11-14|  960747|  31810|     668|         5335|\n",
      "|         22|  I Hired An MI6 Sp...|        BuzzFeedBlue|  2017-11-11|2017-11-11 16:00:44|   2017-11-14| 1531218|  53961|    1697|         4277|\n",
      "|         23|  Fake Pet Smart Em...|                NELK|  2017-11-13|2017-11-13 01:30:01|   2017-11-14|  557883|  44558|     621|         9619|\n",
      "|         24|  Jason Momoa Wows ...|The Graham Norton...|  2017-11-10|2017-11-10 19:06:23|   2017-11-14| 1496225|  16116|     236|          605|\n",
      "|          1|  Rooster Teeth Ani...|       Rooster Teeth|  2017-11-13|2017-11-13 14:00:03|   2017-11-14|  308568|  19541|      70|          495|\n",
      "|          1|  Sharry Mann: Cute...|     Lokdhun Punjabi|  2017-11-12|2017-11-12 12:20:39|   2017-11-14| 1096327|  33966|     798|          882|\n",
      "+-----------+----------------------+--------------------+------------+-------------------+-------------+--------+-------+--------+-------------+\n",
      "only showing top 20 rows"
     ]
    }
   ],
   "source": [
    "all_videos_df = all_videos_df.withColumn(\"trending_date\",f.to_date(\"trending_date\",'yy.dd.MM')) \\\n",
    "   .withColumn(\"publish_time_1\",f.regexp_replace(\"publish_time\",\"T\",\" \")) \\\n",
    "   .withColumn(\"publish_time_2\",f.regexp_replace(\"publish_time_1\",\"Z\",\"\")) \\\n",
    "   .withColumn(\"publish_time_3\",f.to_timestamp(\"publish_time_2\",'yyyy-MM-dd HH:mm:ss.SSS'))\n",
    "\n",
    "transformed_videos_df = all_videos_df.drop(\"publish_time\",\"publish_time_1\",\"publish_time_2\").withColumnRenamed(\"publish_time_3\",\"publish_time\") \\\n",
    ".withColumn(\"publish_date\",f.to_date(\"publish_time\")) \\\n",
    ".select(all_videos_df.category_id.cast(\"int\"),\"title\",\"channel_title\",\"publish_date\",\"publish_time\",\"trending_date\",all_videos_df.views.cast(\"int\"),all_videos_df.likes.cast(\"int\"),all_videos_df.dislikes.cast(\"int\"),all_videos_df.comment_count.cast(\"int\")) \n",
    "\n",
    "transformed_videos_df.show()"
   ]
  },
  {
   "cell_type": "code",
   "execution_count": 14,
   "id": "4c795e51",
   "metadata": {},
   "outputs": [
    {
     "data": {
      "application/vnd.jupyter.widget-view+json": {
       "model_id": "c04ab805633544a98e59201bc064bc86",
       "version_major": 2,
       "version_minor": 0
      },
      "text/plain": [
       "VBox()"
      ]
     },
     "metadata": {},
     "output_type": "display_data"
    },
    {
     "data": {
      "application/vnd.jupyter.widget-view+json": {
       "model_id": "",
       "version_major": 2,
       "version_minor": 0
      },
      "text/plain": [
       "FloatProgress(value=0.0, bar_style='info', description='Progress:', layout=Layout(height='25px', width='50%'),…"
      ]
     },
     "metadata": {},
     "output_type": "display_data"
    },
    {
     "name": "stdout",
     "output_type": "stream",
     "text": [
      "root\n",
      " |-- category_id: integer (nullable = true)\n",
      " |-- title: string (nullable = true)\n",
      " |-- channel_title: string (nullable = true)\n",
      " |-- publish_date: date (nullable = true)\n",
      " |-- publish_time: timestamp (nullable = true)\n",
      " |-- trending_date: date (nullable = true)\n",
      " |-- views: integer (nullable = true)\n",
      " |-- likes: integer (nullable = true)\n",
      " |-- dislikes: integer (nullable = true)\n",
      " |-- comment_count: integer (nullable = true)"
     ]
    }
   ],
   "source": [
    "transformed_videos_df.printSchema()"
   ]
  },
  {
   "cell_type": "code",
   "execution_count": 15,
   "id": "a8d46eb1",
   "metadata": {},
   "outputs": [
    {
     "data": {
      "application/vnd.jupyter.widget-view+json": {
       "model_id": "a7d6bfac761f47cfbe889e0f64ec86bb",
       "version_major": 2,
       "version_minor": 0
      },
      "text/plain": [
       "VBox()"
      ]
     },
     "metadata": {},
     "output_type": "display_data"
    },
    {
     "data": {
      "application/vnd.jupyter.widget-view+json": {
       "model_id": "",
       "version_major": 2,
       "version_minor": 0
      },
      "text/plain": [
       "FloatProgress(value=0.0, bar_style='info', description='Progress:', layout=Layout(height='25px', width='50%'),…"
      ]
     },
     "metadata": {},
     "output_type": "display_data"
    },
    {
     "name": "stdout",
     "output_type": "stream",
     "text": [
      "178363"
     ]
    }
   ],
   "source": [
    "transformed_videos_df.count()"
   ]
  },
  {
   "cell_type": "code",
   "execution_count": 16,
   "id": "a088f9de",
   "metadata": {},
   "outputs": [
    {
     "data": {
      "application/vnd.jupyter.widget-view+json": {
       "model_id": "c79b5daeafda4ecf8e6ee52ece5dd650",
       "version_major": 2,
       "version_minor": 0
      },
      "text/plain": [
       "VBox()"
      ]
     },
     "metadata": {},
     "output_type": "display_data"
    },
    {
     "data": {
      "application/vnd.jupyter.widget-view+json": {
       "model_id": "",
       "version_major": 2,
       "version_minor": 0
      },
      "text/plain": [
       "FloatProgress(value=0.0, bar_style='info', description='Progress:', layout=Layout(height='25px', width='50%'),…"
      ]
     },
     "metadata": {},
     "output_type": "display_data"
    }
   ],
   "source": [
    "transformed_videos_df.write.parquet(\"s3a://youtube-dataset-kshitij/output/videos\")"
   ]
  },
  {
   "cell_type": "code",
   "execution_count": null,
   "id": "6b468d7a",
   "metadata": {},
   "outputs": [],
   "source": []
  }
 ],
 "metadata": {
  "kernelspec": {
   "display_name": "PySpark",
   "language": "python",
   "name": "pysparkkernel"
  },
  "language_info": {
   "codemirror_mode": {
    "name": "python",
    "version": 3
   },
   "file_extension": ".py",
   "mimetype": "text/x-python",
   "name": "pyspark",
   "pygments_lexer": "python3"
  }
 },
 "nbformat": 4,
 "nbformat_minor": 5
}
