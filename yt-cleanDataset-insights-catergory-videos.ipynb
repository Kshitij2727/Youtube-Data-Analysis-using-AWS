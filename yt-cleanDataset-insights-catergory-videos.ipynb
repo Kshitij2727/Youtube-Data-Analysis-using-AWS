{
 "cells": [
  {
   "cell_type": "code",
   "execution_count": 1,
   "id": "0f3fce8f",
   "metadata": {},
   "outputs": [
    {
     "data": {
      "application/vnd.jupyter.widget-view+json": {
       "model_id": "315ce344493848a6be5083595b5d687c",
       "version_major": 2,
       "version_minor": 0
      },
      "text/plain": [
       "VBox()"
      ]
     },
     "metadata": {},
     "output_type": "display_data"
    },
    {
     "name": "stdout",
     "output_type": "stream",
     "text": [
      "Starting Spark application\n"
     ]
    },
    {
     "data": {
      "text/html": [
       "<table>\n",
       "<tr><th>ID</th><th>YARN Application ID</th><th>Kind</th><th>State</th><th>Spark UI</th><th>Driver log</th><th>User</th><th>Current session?</th></tr><tr><td>1</td><td>application_1666882784054_0002</td><td>pyspark</td><td>idle</td><td><a target=\"_blank\" href=\"http://ip-172-31-15-168.ap-south-1.compute.internal:20888/proxy/application_1666882784054_0002/\" class=\"emr-proxy-link\" emr-resource=\"j-3HZ8RC65FSXJE\n",
       "\" application-id=\"application_1666882784054_0002\">Link</a></td><td><a target=\"_blank\" href=\"http://ip-172-31-10-93.ap-south-1.compute.internal:8042/node/containerlogs/container_1666882784054_0002_01_000001/livy\" >Link</a></td><td>None</td><td>✔</td></tr></table>"
      ],
      "text/plain": [
       "<IPython.core.display.HTML object>"
      ]
     },
     "metadata": {},
     "output_type": "display_data"
    },
    {
     "data": {
      "application/vnd.jupyter.widget-view+json": {
       "model_id": "",
       "version_major": 2,
       "version_minor": 0
      },
      "text/plain": [
       "FloatProgress(value=0.0, bar_style='info', description='Progress:', layout=Layout(height='25px', width='50%'),…"
      ]
     },
     "metadata": {},
     "output_type": "display_data"
    },
    {
     "name": "stdout",
     "output_type": "stream",
     "text": [
      "SparkSession available as 'spark'.\n"
     ]
    },
    {
     "data": {
      "application/vnd.jupyter.widget-view+json": {
       "model_id": "",
       "version_major": 2,
       "version_minor": 0
      },
      "text/plain": [
       "FloatProgress(value=0.0, bar_style='info', description='Progress:', layout=Layout(height='25px', width='50%'),…"
      ]
     },
     "metadata": {},
     "output_type": "display_data"
    },
    {
     "name": "stdout",
     "output_type": "stream",
     "text": [
      "Spark session created"
     ]
    }
   ],
   "source": [
    "from pyspark.sql import SparkSession\n",
    "def get_spark():\n",
    "    spark = SparkSession.builder.appName('SparkDelta') \\\n",
    "        .config(\"spark.hadoop.fs.s3a.impl\", \"org.apache.hadoop.fs.s3a.S3AFileSystem\") \\\n",
    "        .config(\"spark.jars.packages\",\n",
    "                \"org.apache.hadoop:hadoop-aws:3.2.2,\"\n",
    "                \"com.amazonaws:aws-java-sdk-bundle:1.12.180\") \\\n",
    "        .getOrCreate()\n",
    "# This is mandate config on spark session to use AWS S3\n",
    "    spark._jsc.hadoopConfiguration().set(\"com.amazonaws.services.s3.enableV4\", \"true\")\n",
    "    spark._jsc.hadoopConfiguration().set(\"fs.s3a.impl\", \"org.apache.hadoop.fs.s3a.S3AFileSystem\")\n",
    "    spark._jsc.hadoopConfiguration().set(\"fs.s3a.aws.credentials.provider\",\"com.amazonaws.auth.InstanceProfileCredentialsProvider,com.amazonaws.auth.DefaultAWSCredentialsProviderChain\")\n",
    "    spark._jsc.hadoopConfiguration().set(\"fs.AbstractFileSystem.s3a.impl\", \"org.apache.hadoop.fs.s3a.S3A\")\n",
    "# spark.sparkContext.setLogLevel(\"DEBUG\")\n",
    "    return spark\n",
    "spark = get_spark()\n",
    "print(\"Spark session created\")"
   ]
  },
  {
   "cell_type": "code",
   "execution_count": 13,
   "id": "e481b089",
   "metadata": {},
   "outputs": [
    {
     "data": {
      "application/vnd.jupyter.widget-view+json": {
       "model_id": "9230ceb266c04892b4b23d1b52886313",
       "version_major": 2,
       "version_minor": 0
      },
      "text/plain": [
       "VBox()"
      ]
     },
     "metadata": {},
     "output_type": "display_data"
    },
    {
     "data": {
      "application/vnd.jupyter.widget-view+json": {
       "model_id": "",
       "version_major": 2,
       "version_minor": 0
      },
      "text/plain": [
       "FloatProgress(value=0.0, bar_style='info', description='Progress:', layout=Layout(height='25px', width='50%'),…"
      ]
     },
     "metadata": {},
     "output_type": "display_data"
    }
   ],
   "source": [
    "category_path = \"s3a://youtube-dataset-kshitij/output/category/part*\"\n",
    "videos_path = \"s3a://youtube-dataset-kshitij/output/videos/part*\"\n",
    "category_df = spark.read.parquet(category_path)\n",
    "videos_df = spark.read.parquet(videos_path)"
   ]
  },
  {
   "cell_type": "code",
   "execution_count": 14,
   "id": "998ffca1",
   "metadata": {},
   "outputs": [
    {
     "data": {
      "application/vnd.jupyter.widget-view+json": {
       "model_id": "1ff6c0f1862344c28978e94fa4f34f88",
       "version_major": 2,
       "version_minor": 0
      },
      "text/plain": [
       "VBox()"
      ]
     },
     "metadata": {},
     "output_type": "display_data"
    },
    {
     "data": {
      "application/vnd.jupyter.widget-view+json": {
       "model_id": "",
       "version_major": 2,
       "version_minor": 0
      },
      "text/plain": [
       "FloatProgress(value=0.0, bar_style='info', description='Progress:', layout=Layout(height='25px', width='50%'),…"
      ]
     },
     "metadata": {},
     "output_type": "display_data"
    },
    {
     "name": "stdout",
     "output_type": "stream",
     "text": [
      "Total number of records in category_df is -  32\n",
      "Total number of records in videos_df is -  178363"
     ]
    }
   ],
   "source": [
    "print(\"Total number of records in category_df is - \",category_df.count())\n",
    "print(\"Total number of records in videos_df is - \",videos_df.count())"
   ]
  },
  {
   "cell_type": "code",
   "execution_count": 15,
   "id": "cb51d677",
   "metadata": {},
   "outputs": [
    {
     "data": {
      "application/vnd.jupyter.widget-view+json": {
       "model_id": "ded5a0de6cbe4beb8ecca5191f951ff1",
       "version_major": 2,
       "version_minor": 0
      },
      "text/plain": [
       "VBox()"
      ]
     },
     "metadata": {},
     "output_type": "display_data"
    },
    {
     "data": {
      "application/vnd.jupyter.widget-view+json": {
       "model_id": "",
       "version_major": 2,
       "version_minor": 0
      },
      "text/plain": [
       "FloatProgress(value=0.0, bar_style='info', description='Progress:', layout=Layout(height='25px', width='50%'),…"
      ]
     },
     "metadata": {},
     "output_type": "display_data"
    },
    {
     "name": "stdout",
     "output_type": "stream",
     "text": [
      "+---+--------------------+\n",
      "| id|               title|\n",
      "+---+--------------------+\n",
      "| 31|     Anime/Animation|\n",
      "|  2|    Autos & Vehicles|\n",
      "| 44|            Trailers|\n",
      "| 39|              Horror|\n",
      "| 19|     Travel & Events|\n",
      "| 30|              Movies|\n",
      "| 36|               Drama|\n",
      "| 18|        Short Movies|\n",
      "| 27|           Education|\n",
      "| 21|       Videoblogging|\n",
      "| 33|            Classics|\n",
      "| 24|       Entertainment|\n",
      "| 28|Science & Technology|\n",
      "| 32|    Action/Adventure|\n",
      "| 22|      People & Blogs|\n",
      "| 38|             Foreign|\n",
      "| 10|               Music|\n",
      "| 42|              Shorts|\n",
      "| 17|              Sports|\n",
      "|  1|    Film & Animation|\n",
      "+---+--------------------+\n",
      "only showing top 20 rows\n",
      "\n",
      "+-----------+--------------------+--------------------+------------+-------------------+-------------+-------+------+--------+-------------+\n",
      "|category_id|               title|       channel_title|publish_date|       publish_time|trending_date|  views| likes|dislikes|comment_count|\n",
      "+-----------+--------------------+--------------------+------------+-------------------+-------------+-------+------+--------+-------------+\n",
      "|         22|WE WANT TO TALK A...|        CaseyNeistat|  2017-11-13|2017-11-13 17:13:01|   2017-11-14| 748374| 57527|    2966|        15954|\n",
      "|         24|The Trump Preside...|     LastWeekTonight|  2017-11-13|2017-11-13 07:30:00|   2017-11-14|2418783| 97185|    6146|        12703|\n",
      "|         23|Racist Superman |...|        Rudy Mancuso|  2017-11-12|2017-11-12 19:05:24|   2017-11-14|3191434|146033|    5339|         8181|\n",
      "|         24|Nickelback Lyrics...|Good Mythical Mor...|  2017-11-13|2017-11-13 11:00:04|   2017-11-14| 343168| 10172|     666|         2146|\n",
      "|         24|I Dare You: GOING...|            nigahiga|  2017-11-12|2017-11-12 18:01:41|   2017-11-14|2095731|132235|    1989|        17518|\n",
      "|         28|2 Weeks with iPho...|            iJustine|  2017-11-13|2017-11-13 19:07:23|   2017-11-14| 119180|  9763|     511|         1434|\n",
      "|         24|Roy Moore & Jeff ...| Saturday Night Live|  2017-11-12|2017-11-12 05:37:17|   2017-11-14|2103417| 15993|    2445|         1970|\n",
      "|         28|5 Ice Cream Gadge...|  CrazyRussianHacker|  2017-11-12|2017-11-12 21:50:37|   2017-11-14| 817732| 23663|     778|         3432|\n",
      "|          1|The Greatest Show...|    20th Century Fox|  2017-11-13|2017-11-13 14:00:23|   2017-11-14| 826059|  3543|     119|          340|\n",
      "|         25|Why the rise of t...|                 Vox|  2017-11-13|2017-11-13 13:45:16|   2017-11-14| 256426| 12654|    1363|         2368|\n",
      "|         17|Dion Lewis' 103-Y...|                 NFL|  2017-11-13|2017-11-13 02:05:26|   2017-11-14|  81377|   655|      25|          177|\n",
      "|         24|(SPOILERS) 'Shiva...|                 amc|  2017-11-13|2017-11-13 03:00:00|   2017-11-14| 104578|  1576|     303|         1279|\n",
      "|         10|Marshmello - Bloc...|          marshmello|  2017-11-13|2017-11-13 17:00:00|   2017-11-14| 687582|114188|    1333|         8371|\n",
      "|         25|Which Countries A...|       NowThis World|  2017-11-12|2017-11-12 14:00:00|   2017-11-14| 544770|  7848|    1171|         3981|\n",
      "|         15|SHOPPING FOR NEW ...|     The king of DIY|  2017-11-12|2017-11-12 18:30:01|   2017-11-14| 207532|  7473|     246|         2120|\n",
      "|         28|    The New SpotMini|      BostonDynamics|  2017-11-13|2017-11-13 20:09:58|   2017-11-14|  75752|  9419|      52|         1230|\n",
      "|         23|One Change That W...|             Cracked|  2017-11-12|2017-11-12 17:00:05|   2017-11-14| 295639|  8011|     638|         1256|\n",
      "|         27|How does your bod...|              TED-Ed|  2017-11-13|2017-11-13 16:00:07|   2017-11-14|  78044|  5398|      53|          385|\n",
      "|         28|HomeMade Electric...|         PeterSripol|  2017-11-13|2017-11-13 15:30:17|   2017-11-14|  97007| 11963|      36|         2211|\n",
      "|         27|Founding An Inbre...|             SciShow|  2017-11-12|2017-11-12 22:00:01|   2017-11-14| 223871|  8421|     191|         1214|\n",
      "+-----------+--------------------+--------------------+------------+-------------------+-------------+-------+------+--------+-------------+\n",
      "only showing top 20 rows"
     ]
    }
   ],
   "source": [
    "category_df.show()\n",
    "videos_df.show()"
   ]
  },
  {
   "cell_type": "code",
   "execution_count": 16,
   "id": "19991d10",
   "metadata": {},
   "outputs": [
    {
     "data": {
      "application/vnd.jupyter.widget-view+json": {
       "model_id": "6c15c66b872c4895adccb435a1c4bd07",
       "version_major": 2,
       "version_minor": 0
      },
      "text/plain": [
       "VBox()"
      ]
     },
     "metadata": {},
     "output_type": "display_data"
    },
    {
     "data": {
      "application/vnd.jupyter.widget-view+json": {
       "model_id": "",
       "version_major": 2,
       "version_minor": 0
      },
      "text/plain": [
       "FloatProgress(value=0.0, bar_style='info', description='Progress:', layout=Layout(height='25px', width='50%'),…"
      ]
     },
     "metadata": {},
     "output_type": "display_data"
    }
   ],
   "source": [
    "#Renaming column title in category_df as category_title since 'title' column also exists in videos_df \n",
    "category_df = category_df.withColumnRenamed(\"title\",\"category_title\")"
   ]
  },
  {
   "cell_type": "code",
   "execution_count": 17,
   "id": "847f5a7a",
   "metadata": {},
   "outputs": [
    {
     "data": {
      "application/vnd.jupyter.widget-view+json": {
       "model_id": "53e06bc0e10748538981989efaaa1fa5",
       "version_major": 2,
       "version_minor": 0
      },
      "text/plain": [
       "VBox()"
      ]
     },
     "metadata": {},
     "output_type": "display_data"
    },
    {
     "data": {
      "application/vnd.jupyter.widget-view+json": {
       "model_id": "",
       "version_major": 2,
       "version_minor": 0
      },
      "text/plain": [
       "FloatProgress(value=0.0, bar_style='info', description='Progress:', layout=Layout(height='25px', width='50%'),…"
      ]
     },
     "metadata": {},
     "output_type": "display_data"
    }
   ],
   "source": [
    "import pyspark.sql.functions as f\n",
    "#Applying broadcast join on category_df as it has only 32 records\n",
    "joined_df = videos_df.join(f.broadcast(category_df),category_df.id==videos_df.category_id,\"inner\")"
   ]
  },
  {
   "cell_type": "code",
   "execution_count": 20,
   "id": "8512bcbc",
   "metadata": {},
   "outputs": [
    {
     "data": {
      "application/vnd.jupyter.widget-view+json": {
       "model_id": "2165a58d6753434b9008aabcb6a2bfaa",
       "version_major": 2,
       "version_minor": 0
      },
      "text/plain": [
       "VBox()"
      ]
     },
     "metadata": {},
     "output_type": "display_data"
    },
    {
     "data": {
      "application/vnd.jupyter.widget-view+json": {
       "model_id": "",
       "version_major": 2,
       "version_minor": 0
      },
      "text/plain": [
       "FloatProgress(value=0.0, bar_style='info', description='Progress:', layout=Layout(height='25px', width='50%'),…"
      ]
     },
     "metadata": {},
     "output_type": "display_data"
    }
   ],
   "source": [
    "joined_df = joined_df.drop('id','category_id')"
   ]
  },
  {
   "cell_type": "code",
   "execution_count": 21,
   "id": "cd0ae2b7",
   "metadata": {},
   "outputs": [
    {
     "data": {
      "application/vnd.jupyter.widget-view+json": {
       "model_id": "3c0958bc353d497ea7306239739d9b5c",
       "version_major": 2,
       "version_minor": 0
      },
      "text/plain": [
       "VBox()"
      ]
     },
     "metadata": {},
     "output_type": "display_data"
    },
    {
     "data": {
      "application/vnd.jupyter.widget-view+json": {
       "model_id": "",
       "version_major": 2,
       "version_minor": 0
      },
      "text/plain": [
       "FloatProgress(value=0.0, bar_style='info', description='Progress:', layout=Layout(height='25px', width='50%'),…"
      ]
     },
     "metadata": {},
     "output_type": "display_data"
    },
    {
     "name": "stdout",
     "output_type": "stream",
     "text": [
      "+--------------------+--------------------+------------+-------------------+-------------+-------+------+--------+-------------+--------------------+\n",
      "|               title|       channel_title|publish_date|       publish_time|trending_date|  views| likes|dislikes|comment_count|      category_title|\n",
      "+--------------------+--------------------+------------+-------------------+-------------+-------+------+--------+-------------+--------------------+\n",
      "|WE WANT TO TALK A...|        CaseyNeistat|  2017-11-13|2017-11-13 17:13:01|   2017-11-14| 748374| 57527|    2966|        15954|      People & Blogs|\n",
      "|The Trump Preside...|     LastWeekTonight|  2017-11-13|2017-11-13 07:30:00|   2017-11-14|2418783| 97185|    6146|        12703|       Entertainment|\n",
      "|Racist Superman |...|        Rudy Mancuso|  2017-11-12|2017-11-12 19:05:24|   2017-11-14|3191434|146033|    5339|         8181|              Comedy|\n",
      "|Nickelback Lyrics...|Good Mythical Mor...|  2017-11-13|2017-11-13 11:00:04|   2017-11-14| 343168| 10172|     666|         2146|       Entertainment|\n",
      "|I Dare You: GOING...|            nigahiga|  2017-11-12|2017-11-12 18:01:41|   2017-11-14|2095731|132235|    1989|        17518|       Entertainment|\n",
      "|2 Weeks with iPho...|            iJustine|  2017-11-13|2017-11-13 19:07:23|   2017-11-14| 119180|  9763|     511|         1434|Science & Technology|\n",
      "|Roy Moore & Jeff ...| Saturday Night Live|  2017-11-12|2017-11-12 05:37:17|   2017-11-14|2103417| 15993|    2445|         1970|       Entertainment|\n",
      "|5 Ice Cream Gadge...|  CrazyRussianHacker|  2017-11-12|2017-11-12 21:50:37|   2017-11-14| 817732| 23663|     778|         3432|Science & Technology|\n",
      "|The Greatest Show...|    20th Century Fox|  2017-11-13|2017-11-13 14:00:23|   2017-11-14| 826059|  3543|     119|          340|    Film & Animation|\n",
      "|Why the rise of t...|                 Vox|  2017-11-13|2017-11-13 13:45:16|   2017-11-14| 256426| 12654|    1363|         2368|     News & Politics|\n",
      "|Dion Lewis' 103-Y...|                 NFL|  2017-11-13|2017-11-13 02:05:26|   2017-11-14|  81377|   655|      25|          177|              Sports|\n",
      "|(SPOILERS) 'Shiva...|                 amc|  2017-11-13|2017-11-13 03:00:00|   2017-11-14| 104578|  1576|     303|         1279|       Entertainment|\n",
      "|Marshmello - Bloc...|          marshmello|  2017-11-13|2017-11-13 17:00:00|   2017-11-14| 687582|114188|    1333|         8371|               Music|\n",
      "|Which Countries A...|       NowThis World|  2017-11-12|2017-11-12 14:00:00|   2017-11-14| 544770|  7848|    1171|         3981|     News & Politics|\n",
      "|SHOPPING FOR NEW ...|     The king of DIY|  2017-11-12|2017-11-12 18:30:01|   2017-11-14| 207532|  7473|     246|         2120|      Pets & Animals|\n",
      "|    The New SpotMini|      BostonDynamics|  2017-11-13|2017-11-13 20:09:58|   2017-11-14|  75752|  9419|      52|         1230|Science & Technology|\n",
      "|One Change That W...|             Cracked|  2017-11-12|2017-11-12 17:00:05|   2017-11-14| 295639|  8011|     638|         1256|              Comedy|\n",
      "|How does your bod...|              TED-Ed|  2017-11-13|2017-11-13 16:00:07|   2017-11-14|  78044|  5398|      53|          385|           Education|\n",
      "|HomeMade Electric...|         PeterSripol|  2017-11-13|2017-11-13 15:30:17|   2017-11-14|  97007| 11963|      36|         2211|Science & Technology|\n",
      "|Founding An Inbre...|             SciShow|  2017-11-12|2017-11-12 22:00:01|   2017-11-14| 223871|  8421|     191|         1214|           Education|\n",
      "+--------------------+--------------------+------------+-------------------+-------------+-------+------+--------+-------------+--------------------+\n",
      "only showing top 20 rows"
     ]
    }
   ],
   "source": [
    "joined_df.show()"
   ]
  },
  {
   "cell_type": "code",
   "execution_count": 22,
   "id": "a3396fea",
   "metadata": {},
   "outputs": [
    {
     "data": {
      "application/vnd.jupyter.widget-view+json": {
       "model_id": "d426a09736424ed4bc3e72baed7f3f7d",
       "version_major": 2,
       "version_minor": 0
      },
      "text/plain": [
       "VBox()"
      ]
     },
     "metadata": {},
     "output_type": "display_data"
    },
    {
     "data": {
      "application/vnd.jupyter.widget-view+json": {
       "model_id": "",
       "version_major": 2,
       "version_minor": 0
      },
      "text/plain": [
       "FloatProgress(value=0.0, bar_style='info', description='Progress:', layout=Layout(height='25px', width='50%'),…"
      ]
     },
     "metadata": {},
     "output_type": "display_data"
    },
    {
     "name": "stdout",
     "output_type": "stream",
     "text": [
      "+-------------------------+-------------+------------+-------------------+-------------+---------+-------+--------+-------------+--------------+\n",
      "|                    title|channel_title|publish_date|       publish_time|trending_date|    views|  likes|dislikes|comment_count|category_title|\n",
      "+-------------------------+-------------+------------+-------------------+-------------+---------+-------+--------+-------------+--------------+\n",
      "|BTS (방탄소년단) 'FAKE...|      ibighit|  2018-05-18|2018-05-18 09:00:02|   2018-06-01|123010920|5613827|  206892|      1228655|         Music|\n",
      "+-------------------------+-------------+------------+-------------------+-------------+---------+-------+--------+-------------+--------------+"
     ]
    }
   ],
   "source": [
    "#1. Determine the most liked video\n",
    "most_liked_video_df = joined_df.where(joined_df.agg(f.max(\"likes\").alias(\"max_likes\")).collect()[0][0]==joined_df.likes)\n",
    "most_liked_video_df.show()"
   ]
  },
  {
   "cell_type": "code",
   "execution_count": 23,
   "id": "40bc71ff",
   "metadata": {},
   "outputs": [
    {
     "data": {
      "application/vnd.jupyter.widget-view+json": {
       "model_id": "3435be0560e24f6080e6ad2c79b88520",
       "version_major": 2,
       "version_minor": 0
      },
      "text/plain": [
       "VBox()"
      ]
     },
     "metadata": {},
     "output_type": "display_data"
    },
    {
     "data": {
      "application/vnd.jupyter.widget-view+json": {
       "model_id": "",
       "version_major": 2,
       "version_minor": 0
      },
      "text/plain": [
       "FloatProgress(value=0.0, bar_style='info', description='Progress:', layout=Layout(height='25px', width='50%'),…"
      ]
     },
     "metadata": {},
     "output_type": "display_data"
    },
    {
     "name": "stdout",
     "output_type": "stream",
     "text": [
      "+-------------------------+-------------+------------+-------------------+-------------+---------+-------+--------+-------------+--------------+\n",
      "|                    title|channel_title|publish_date|       publish_time|trending_date|    views|  likes|dislikes|comment_count|category_title|\n",
      "+-------------------------+-------------+------------+-------------------+-------------+---------+-------+--------+-------------+--------------+\n",
      "|BTS (방탄소년단) 'FAKE...|      ibighit|  2018-05-18|2018-05-18 09:00:02|   2018-06-01|123010920|5613827|  206892|      1228655|         Music|\n",
      "|BTS (방탄소년단) 'FAKE...|      ibighit|  2018-05-18|2018-05-18 09:00:02|   2018-05-31|121219886|5595203|  205565|      1225326|         Music|\n",
      "|BTS (방탄소년단) 'FAKE...|      ibighit|  2018-05-18|2018-05-18 09:00:02|   2018-05-30|115664850|5530568|  200995|      1213172|         Music|\n",
      "|BTS (방탄소년단) 'FAKE...|      ibighit|  2018-05-18|2018-05-18 09:00:02|   2018-05-29|111882133|5486349|  197638|      1204867|         Music|\n",
      "|BTS (방탄소년단) 'FAKE...|      ibighit|  2018-05-18|2018-05-18 09:00:02|   2018-05-28|107756615|5439015|  194172|      1197130|         Music|\n",
      "|BTS (방탄소년단) 'FAKE...|      ibighit|  2018-05-18|2018-05-18 09:00:02|   2018-05-27|103786733|5386959|  190567|      1189456|         Music|\n",
      "|BTS (방탄소년단) 'FAKE...|      ibighit|  2018-05-18|2018-05-18 09:00:02|   2018-05-26| 98637739|5321402|  186331|      1165350|         Music|\n",
      "|BTS (방탄소년단) 'FAKE...|      ibighit|  2018-05-18|2018-05-18 09:00:02|   2018-05-25| 92054928|5232318|  179451|      1163977|         Music|\n",
      "|BTS (방탄소년단) 'FAKE...|      ibighit|  2018-05-18|2018-05-18 09:00:02|   2018-05-24| 87430865|5150831|  172570|      1142269|         Music|\n",
      "|BTS (방탄소년단) 'FAKE...|      ibighit|  2018-05-18|2018-05-18 09:00:02|   2018-05-23| 80738011|5053338|  165854|      1114800|         Music|\n",
      "+-------------------------+-------------+------------+-------------------+-------------+---------+-------+--------+-------------+--------------+\n",
      "only showing top 10 rows"
     ]
    }
   ],
   "source": [
    "#Validating the results if max liked video is correct in above result by ordering the joined_df in desc order of likes\n",
    "validate_max_liked_video  = joined_df.orderBy(joined_df.likes.desc())\n",
    "validate_max_liked_video.show(10)"
   ]
  },
  {
   "cell_type": "code",
   "execution_count": 25,
   "id": "b02adf93",
   "metadata": {},
   "outputs": [
    {
     "data": {
      "application/vnd.jupyter.widget-view+json": {
       "model_id": "bae689c20edd4685a716bf7e15a914a1",
       "version_major": 2,
       "version_minor": 0
      },
      "text/plain": [
       "VBox()"
      ]
     },
     "metadata": {},
     "output_type": "display_data"
    },
    {
     "data": {
      "application/vnd.jupyter.widget-view+json": {
       "model_id": "",
       "version_major": 2,
       "version_minor": 0
      },
      "text/plain": [
       "FloatProgress(value=0.0, bar_style='info', description='Progress:', layout=Layout(height='25px', width='50%'),…"
      ]
     },
     "metadata": {},
     "output_type": "display_data"
    },
    {
     "name": "stdout",
     "output_type": "stream",
     "text": [
      "+---------+----------------+------------+-------------------+-------------+--------+-------+--------+-------------+--------------+\n",
      "|    title|   channel_title|publish_date|       publish_time|trending_date|   views|  likes|dislikes|comment_count|category_title|\n",
      "+---------+----------------+------------+-------------------+-------------+--------+-------+--------+-------------+--------------+\n",
      "|So Sorry.|Logan Paul Vlogs|  2018-01-02|2018-01-02 16:42:21|   2018-01-09|37539570|1402578| 1674420|      1361580| Entertainment|\n",
      "+---------+----------------+------------+-------------------+-------------+--------+-------+--------+-------------+--------------+"
     ]
    }
   ],
   "source": [
    "#2. Determine the most commented video\n",
    "most_commented_video_df = joined_df.where(joined_df.agg(f.max(\"comment_count\").alias(\"max_comments\")).collect()[0][0]==joined_df.comment_count)\n",
    "most_commented_video_df.show()"
   ]
  },
  {
   "cell_type": "code",
   "execution_count": 26,
   "id": "1ac90b7d",
   "metadata": {},
   "outputs": [
    {
     "data": {
      "application/vnd.jupyter.widget-view+json": {
       "model_id": "1365aa7b987d43e8ab89878507d19416",
       "version_major": 2,
       "version_minor": 0
      },
      "text/plain": [
       "VBox()"
      ]
     },
     "metadata": {},
     "output_type": "display_data"
    },
    {
     "data": {
      "application/vnd.jupyter.widget-view+json": {
       "model_id": "",
       "version_major": 2,
       "version_minor": 0
      },
      "text/plain": [
       "FloatProgress(value=0.0, bar_style='info', description='Progress:', layout=Layout(height='25px', width='50%'),…"
      ]
     },
     "metadata": {},
     "output_type": "display_data"
    }
   ],
   "source": [
    "joined_df = joined_df.withColumnRenamed(\"category_title\",\"category\")"
   ]
  },
  {
   "cell_type": "code",
   "execution_count": 27,
   "id": "01e309af",
   "metadata": {},
   "outputs": [
    {
     "data": {
      "application/vnd.jupyter.widget-view+json": {
       "model_id": "b222411266fb40c487367324d3b172ea",
       "version_major": 2,
       "version_minor": 0
      },
      "text/plain": [
       "VBox()"
      ]
     },
     "metadata": {},
     "output_type": "display_data"
    },
    {
     "data": {
      "application/vnd.jupyter.widget-view+json": {
       "model_id": "",
       "version_major": 2,
       "version_minor": 0
      },
      "text/plain": [
       "FloatProgress(value=0.0, bar_style='info', description='Progress:', layout=Layout(height='25px', width='50%'),…"
      ]
     },
     "metadata": {},
     "output_type": "display_data"
    },
    {
     "name": "stdout",
     "output_type": "stream",
     "text": [
      "+--------------------+--------------------+------------+-------------------+-------------+-------+------+--------+-------------+--------------------+\n",
      "|               title|       channel_title|publish_date|       publish_time|trending_date|  views| likes|dislikes|comment_count|            category|\n",
      "+--------------------+--------------------+------------+-------------------+-------------+-------+------+--------+-------------+--------------------+\n",
      "|WE WANT TO TALK A...|        CaseyNeistat|  2017-11-13|2017-11-13 17:13:01|   2017-11-14| 748374| 57527|    2966|        15954|      People & Blogs|\n",
      "|The Trump Preside...|     LastWeekTonight|  2017-11-13|2017-11-13 07:30:00|   2017-11-14|2418783| 97185|    6146|        12703|       Entertainment|\n",
      "|Racist Superman |...|        Rudy Mancuso|  2017-11-12|2017-11-12 19:05:24|   2017-11-14|3191434|146033|    5339|         8181|              Comedy|\n",
      "|Nickelback Lyrics...|Good Mythical Mor...|  2017-11-13|2017-11-13 11:00:04|   2017-11-14| 343168| 10172|     666|         2146|       Entertainment|\n",
      "|I Dare You: GOING...|            nigahiga|  2017-11-12|2017-11-12 18:01:41|   2017-11-14|2095731|132235|    1989|        17518|       Entertainment|\n",
      "|2 Weeks with iPho...|            iJustine|  2017-11-13|2017-11-13 19:07:23|   2017-11-14| 119180|  9763|     511|         1434|Science & Technology|\n",
      "|Roy Moore & Jeff ...| Saturday Night Live|  2017-11-12|2017-11-12 05:37:17|   2017-11-14|2103417| 15993|    2445|         1970|       Entertainment|\n",
      "|5 Ice Cream Gadge...|  CrazyRussianHacker|  2017-11-12|2017-11-12 21:50:37|   2017-11-14| 817732| 23663|     778|         3432|Science & Technology|\n",
      "|The Greatest Show...|    20th Century Fox|  2017-11-13|2017-11-13 14:00:23|   2017-11-14| 826059|  3543|     119|          340|    Film & Animation|\n",
      "|Why the rise of t...|                 Vox|  2017-11-13|2017-11-13 13:45:16|   2017-11-14| 256426| 12654|    1363|         2368|     News & Politics|\n",
      "|Dion Lewis' 103-Y...|                 NFL|  2017-11-13|2017-11-13 02:05:26|   2017-11-14|  81377|   655|      25|          177|              Sports|\n",
      "|(SPOILERS) 'Shiva...|                 amc|  2017-11-13|2017-11-13 03:00:00|   2017-11-14| 104578|  1576|     303|         1279|       Entertainment|\n",
      "|Marshmello - Bloc...|          marshmello|  2017-11-13|2017-11-13 17:00:00|   2017-11-14| 687582|114188|    1333|         8371|               Music|\n",
      "|Which Countries A...|       NowThis World|  2017-11-12|2017-11-12 14:00:00|   2017-11-14| 544770|  7848|    1171|         3981|     News & Politics|\n",
      "|SHOPPING FOR NEW ...|     The king of DIY|  2017-11-12|2017-11-12 18:30:01|   2017-11-14| 207532|  7473|     246|         2120|      Pets & Animals|\n",
      "|    The New SpotMini|      BostonDynamics|  2017-11-13|2017-11-13 20:09:58|   2017-11-14|  75752|  9419|      52|         1230|Science & Technology|\n",
      "|One Change That W...|             Cracked|  2017-11-12|2017-11-12 17:00:05|   2017-11-14| 295639|  8011|     638|         1256|              Comedy|\n",
      "|How does your bod...|              TED-Ed|  2017-11-13|2017-11-13 16:00:07|   2017-11-14|  78044|  5398|      53|          385|           Education|\n",
      "|HomeMade Electric...|         PeterSripol|  2017-11-13|2017-11-13 15:30:17|   2017-11-14|  97007| 11963|      36|         2211|Science & Technology|\n",
      "|Founding An Inbre...|             SciShow|  2017-11-12|2017-11-12 22:00:01|   2017-11-14| 223871|  8421|     191|         1214|           Education|\n",
      "+--------------------+--------------------+------------+-------------------+-------------+-------+------+--------+-------------+--------------------+\n",
      "only showing top 20 rows"
     ]
    }
   ],
   "source": [
    "joined_df.show()"
   ]
  },
  {
   "cell_type": "code",
   "execution_count": 31,
   "id": "5dc4134b",
   "metadata": {},
   "outputs": [
    {
     "data": {
      "application/vnd.jupyter.widget-view+json": {
       "model_id": "d7dee2727cae4a77a11587ee95b7d1ad",
       "version_major": 2,
       "version_minor": 0
      },
      "text/plain": [
       "VBox()"
      ]
     },
     "metadata": {},
     "output_type": "display_data"
    },
    {
     "data": {
      "application/vnd.jupyter.widget-view+json": {
       "model_id": "",
       "version_major": 2,
       "version_minor": 0
      },
      "text/plain": [
       "FloatProgress(value=0.0, bar_style='info', description='Progress:', layout=Layout(height='25px', width='50%'),…"
      ]
     },
     "metadata": {},
     "output_type": "display_data"
    },
    {
     "name": "stdout",
     "output_type": "stream",
     "text": [
      "+--------------------+--------------------+-------+\n",
      "|            category|       channel_title|  likes|\n",
      "+--------------------+--------------------+-------+\n",
      "|    Autos & Vehicles|            CHRIS-RS|  97030|\n",
      "|    Film & Animation|        Selena Gomez| 922355|\n",
      "|       Howto & Style|               Vogue| 605954|\n",
      "|Science & Technology|         AsapSCIENCE| 564804|\n",
      "|              Sports|        Desimpedidos|1121217|\n",
      "|       Entertainment|   YouTube Spotlight|3093544|\n",
      "|      People & Blogs|        David Dobrik|2032463|\n",
      "|           Education|           PewDiePie| 352049|\n",
      "|              Movies|         Rhythm Boyz|  77789|\n",
      "|     News & Politics|           PewDiePie| 552150|\n",
      "|Nonprofits & Acti...|    Logan Paul Vlogs|1988746|\n",
      "|     Travel & Events|         LE GRAND JD| 150626|\n",
      "|              Comedy|           Lele Pons| 865679|\n",
      "|      Pets & Animals|           PewDiePie| 193092|\n",
      "|            Trailers|La Malédiction Wi...|    138|\n",
      "|              Gaming|       jacksepticeye| 444203|\n",
      "|               Music|             ibighit|5613827|\n",
      "|               Shows|     Bleacher Report|  33261|\n",
      "+--------------------+--------------------+-------+"
     ]
    }
   ],
   "source": [
    "#3. Category wise most liked video along with channel name\n",
    "from pyspark.sql.window import Window\n",
    "partition=Window.partitionBy(\"category\").orderBy(joined_df.likes.desc())\n",
    "category_most_liked_video=joined_df.withColumn(\"dense_r\",f.dense_rank().over(partition)).filter(f.col('dense_r')<=1). \\\n",
    "    select(\"category\",\"channel_title\",\"likes\")\n",
    "category_most_liked_video.show()"
   ]
  },
  {
   "cell_type": "code",
   "execution_count": 40,
   "id": "ba8fde1e",
   "metadata": {},
   "outputs": [
    {
     "data": {
      "application/vnd.jupyter.widget-view+json": {
       "model_id": "70dd277d258647d9a8dd8c765f9b8692",
       "version_major": 2,
       "version_minor": 0
      },
      "text/plain": [
       "VBox()"
      ]
     },
     "metadata": {},
     "output_type": "display_data"
    },
    {
     "data": {
      "application/vnd.jupyter.widget-view+json": {
       "model_id": "",
       "version_major": 2,
       "version_minor": 0
      },
      "text/plain": [
       "FloatProgress(value=0.0, bar_style='info', description='Progress:', layout=Layout(height='25px', width='50%'),…"
      ]
     },
     "metadata": {},
     "output_type": "display_data"
    },
    {
     "name": "stdout",
     "output_type": "stream",
     "text": [
      "+--------------------+-----------+\n",
      "|       channel_title|total_likes|\n",
      "+--------------------+-----------+\n",
      "|             ibighit|  283786333|\n",
      "|Marvel Entertainment|  138062378|\n",
      "|        Dude Perfect|  125369809|\n",
      "| ChildishGambinoVEVO|  117527286|\n",
      "|           PewDiePie|   87971985|\n",
      "|     TaylorSwiftVEVO|   86585685|\n",
      "|          Ed Sheeran|   80762668|\n",
      "|    ArianaGrandeVevo|   67300244|\n",
      "|        Amit Bhadana|   64203102|\n",
      "|    Logan Paul Vlogs|   63350859|\n",
      "|Sony Pictures Ent...|   62059534|\n",
      "|   YouTube Spotlight|   58686848|\n",
      "|        FoxStarHindi|   58201569|\n",
      "|            T-Series|   55807729|\n",
      "|    jypentertainment|   54729095|\n",
      "|            ZaynVEVO|   52549017|\n",
      "|            nigahiga|   49055598|\n",
      "|          EminemVEVO|   47398810|\n",
      "|    20th Century Fox|   46762012|\n",
      "|             Cardi B|   43368065|\n",
      "+--------------------+-----------+\n",
      "only showing top 20 rows"
     ]
    }
   ],
   "source": [
    "#4. Display channel wise total (aggregated) likes in desc order\n",
    "channel_total_likes_desc = joined_df.groupby(\"channel_title\").agg(f.sum(\"likes\").alias(\"total_likes\"))\n",
    "channel_total_likes_desc = channel_total_likes_desc.orderBy(channel_total_likes_desc.total_likes.desc())\n",
    "channel_total_likes_desc.show()"
   ]
  },
  {
   "cell_type": "code",
   "execution_count": 42,
   "id": "072866a4",
   "metadata": {},
   "outputs": [
    {
     "data": {
      "application/vnd.jupyter.widget-view+json": {
       "model_id": "437ffe5fc5e043029b2b075610d06611",
       "version_major": 2,
       "version_minor": 0
      },
      "text/plain": [
       "VBox()"
      ]
     },
     "metadata": {},
     "output_type": "display_data"
    },
    {
     "data": {
      "application/vnd.jupyter.widget-view+json": {
       "model_id": "",
       "version_major": 2,
       "version_minor": 0
      },
      "text/plain": [
       "FloatProgress(value=0.0, bar_style='info', description='Progress:', layout=Layout(height='25px', width='50%'),…"
      ]
     },
     "metadata": {},
     "output_type": "display_data"
    },
    {
     "name": "stdout",
     "output_type": "stream",
     "text": [
      "+--------------------+-----------+\n",
      "|            category|total_likes|\n",
      "+--------------------+-----------+\n",
      "|               Music| 2512928884|\n",
      "|       Entertainment| 1432152121|\n",
      "|              Comedy|  717313550|\n",
      "|      People & Blogs|  344126997|\n",
      "|    Film & Animation|  337672454|\n",
      "|       Howto & Style|  237472022|\n",
      "|              Sports|  235005176|\n",
      "|Science & Technology|  165256446|\n",
      "|              Gaming|  149975268|\n",
      "|           Education|   86004544|\n",
      "|     News & Politics|   75702100|\n",
      "|Nonprofits & Acti...|   31263755|\n",
      "|      Pets & Animals|   29899421|\n",
      "|    Autos & Vehicles|   11124108|\n",
      "|     Travel & Events|    9475873|\n",
      "|               Shows|    2750630|\n",
      "|              Movies|     939851|\n",
      "|            Trailers|        192|\n",
      "+--------------------+-----------+"
     ]
    }
   ],
   "source": [
    "#5. Display CATEGORY wise total (aggregated) likes in desc order\n",
    "category_total_likes_desc = joined_df.groupby(\"category\").agg(f.sum(\"likes\").alias(\"total_likes\"))\n",
    "category_total_likes_desc = category_total_likes_desc.orderBy(category_total_likes_desc.total_likes.desc())\n",
    "category_total_likes_desc.show()"
   ]
  },
  {
   "cell_type": "code",
   "execution_count": 43,
   "id": "15627394",
   "metadata": {},
   "outputs": [
    {
     "data": {
      "application/vnd.jupyter.widget-view+json": {
       "model_id": "fc762c8b63134c66a7ec20d39e17361f",
       "version_major": 2,
       "version_minor": 0
      },
      "text/plain": [
       "VBox()"
      ]
     },
     "metadata": {},
     "output_type": "display_data"
    },
    {
     "data": {
      "application/vnd.jupyter.widget-view+json": {
       "model_id": "",
       "version_major": 2,
       "version_minor": 0
      },
      "text/plain": [
       "FloatProgress(value=0.0, bar_style='info', description='Progress:', layout=Layout(height='25px', width='50%'),…"
      ]
     },
     "metadata": {},
     "output_type": "display_data"
    },
    {
     "name": "stdout",
     "output_type": "stream",
     "text": [
      "+----------------+-----------+\n",
      "|        category|total_likes|\n",
      "+----------------+-----------+\n",
      "|           Music| 2512928884|\n",
      "|   Entertainment| 1432152121|\n",
      "|          Comedy|  717313550|\n",
      "|  People & Blogs|  344126997|\n",
      "|Film & Animation|  337672454|\n",
      "+----------------+-----------+"
     ]
    }
   ],
   "source": [
    "#6. Top 5 popular categories liked by people\n",
    "category_total_likes_desc = category_total_likes_desc.limit(5)\n",
    "category_total_likes_desc.show()"
   ]
  },
  {
   "cell_type": "code",
   "execution_count": 44,
   "id": "ee35042c",
   "metadata": {},
   "outputs": [
    {
     "data": {
      "application/vnd.jupyter.widget-view+json": {
       "model_id": "65d1b7bc28d94e6d83479f6950e802db",
       "version_major": 2,
       "version_minor": 0
      },
      "text/plain": [
       "VBox()"
      ]
     },
     "metadata": {},
     "output_type": "display_data"
    },
    {
     "data": {
      "application/vnd.jupyter.widget-view+json": {
       "model_id": "",
       "version_major": 2,
       "version_minor": 0
      },
      "text/plain": [
       "FloatProgress(value=0.0, bar_style='info', description='Progress:', layout=Layout(height='25px', width='50%'),…"
      ]
     },
     "metadata": {},
     "output_type": "display_data"
    },
    {
     "name": "stdout",
     "output_type": "stream",
     "text": [
      "+----------------+-----------+\n",
      "|        category|total_views|\n",
      "+----------------+-----------+\n",
      "|           Music|68490034391|\n",
      "|   Entertainment|54175494907|\n",
      "|Film & Animation|14988884087|\n",
      "|          Comedy|13609821712|\n",
      "|  People & Blogs|10790367427|\n",
      "+----------------+-----------+"
     ]
    }
   ],
   "source": [
    "#7. Top 5 most viewed categories of videos\n",
    "category_total_views_desc = joined_df.groupby(\"category\").agg(f.sum(\"views\").alias(\"total_views\"))\n",
    "category_total_views_top_5 = category_total_views_desc.orderBy(category_total_views_desc.total_views.desc()).limit(5)\n",
    "category_total_views_top_5.show()"
   ]
  },
  {
   "cell_type": "code",
   "execution_count": 45,
   "id": "1379656e",
   "metadata": {},
   "outputs": [
    {
     "data": {
      "application/vnd.jupyter.widget-view+json": {
       "model_id": "c5040029f95f42058006e0873f837e97",
       "version_major": 2,
       "version_minor": 0
      },
      "text/plain": [
       "VBox()"
      ]
     },
     "metadata": {},
     "output_type": "display_data"
    },
    {
     "data": {
      "application/vnd.jupyter.widget-view+json": {
       "model_id": "",
       "version_major": 2,
       "version_minor": 0
      },
      "text/plain": [
       "FloatProgress(value=0.0, bar_style='info', description='Progress:', layout=Layout(height='25px', width='50%'),…"
      ]
     },
     "metadata": {},
     "output_type": "display_data"
    },
    {
     "name": "stdout",
     "output_type": "stream",
     "text": [
      "+--------------------+-----------------+-------------+\n",
      "|            category|    channel_title|comment_count|\n",
      "+--------------------+-----------------+-------------+\n",
      "|    Autos & Vehicles|         ChrisFix|        25643|\n",
      "|    Film & Animation|Jaiden Animations|       105594|\n",
      "|       Howto & Style|      jeffreestar|       262658|\n",
      "|Science & Technology| Technical Guruji|       377912|\n",
      "|              Sports|     Desimpedidos|        79844|\n",
      "|       Entertainment| Logan Paul Vlogs|      1321281|\n",
      "|      People & Blogs|   Safiya Nygaard|       378185|\n",
      "|           Education|  #Mind Warehouse|        85367|\n",
      "|              Movies|      Rhythm Boyz|         4279|\n",
      "|     News & Politics|        PewDiePie|        61795|\n",
      "|Nonprofits & Acti...| Logan Paul Vlogs|       647524|\n",
      "|     Travel & Events|      LE GRAND JD|        14607|\n",
      "|              Comedy|        PewDiePie|        83116|\n",
      "|      Pets & Animals| Brave Wilderness|        44132|\n",
      "|              Gaming|     Call of Duty|       144537|\n",
      "|               Music|          ibighit|      1225326|\n",
      "|               Shows|        VikatanTV|         2566|\n",
      "|               Shows|        VikatanTV|         2566|\n",
      "+--------------------+-----------------+-------------+"
     ]
    }
   ],
   "source": [
    "#8. Second most commented video of each category\n",
    "partition=Window.partitionBy(\"category\").orderBy(joined_df.comment_count.desc())\n",
    "second_most_commented_video_in_category = joined_df.withColumn(\"dense_r\",f.dense_rank().over(partition)). \\\n",
    "    filter(f.col('dense_r')==2). \\\n",
    "    select(\"category\",\"channel_title\",\"comment_count\")\n",
    "second_most_commented_video_in_category.show()"
   ]
  },
  {
   "cell_type": "code",
   "execution_count": 48,
   "id": "a848417d",
   "metadata": {},
   "outputs": [
    {
     "data": {
      "application/vnd.jupyter.widget-view+json": {
       "model_id": "58810a194aab4fbebd28973346db74f0",
       "version_major": 2,
       "version_minor": 0
      },
      "text/plain": [
       "VBox()"
      ]
     },
     "metadata": {},
     "output_type": "display_data"
    },
    {
     "data": {
      "application/vnd.jupyter.widget-view+json": {
       "model_id": "",
       "version_major": 2,
       "version_minor": 0
      },
      "text/plain": [
       "FloatProgress(value=0.0, bar_style='info', description='Progress:', layout=Layout(height='25px', width='50%'),…"
      ]
     },
     "metadata": {},
     "output_type": "display_data"
    },
    {
     "name": "stdout",
     "output_type": "stream",
     "text": [
      "+--------------------+--------------------+------------+-------------------+-------------+-------+------+--------+-------------+--------------------+\n",
      "|               title|       channel_title|publish_date|       publish_time|trending_date|  views| likes|dislikes|comment_count|            category|\n",
      "+--------------------+--------------------+------------+-------------------+-------------+-------+------+--------+-------------+--------------------+\n",
      "|WE WANT TO TALK A...|        CaseyNeistat|  2017-11-13|2017-11-13 17:13:01|   2017-11-14| 748374| 57527|    2966|        15954|      People & Blogs|\n",
      "|The Trump Preside...|     LastWeekTonight|  2017-11-13|2017-11-13 07:30:00|   2017-11-14|2418783| 97185|    6146|        12703|       Entertainment|\n",
      "|Racist Superman |...|        Rudy Mancuso|  2017-11-12|2017-11-12 19:05:24|   2017-11-14|3191434|146033|    5339|         8181|              Comedy|\n",
      "|Nickelback Lyrics...|Good Mythical Mor...|  2017-11-13|2017-11-13 11:00:04|   2017-11-14| 343168| 10172|     666|         2146|       Entertainment|\n",
      "|I Dare You: GOING...|            nigahiga|  2017-11-12|2017-11-12 18:01:41|   2017-11-14|2095731|132235|    1989|        17518|       Entertainment|\n",
      "|2 Weeks with iPho...|            iJustine|  2017-11-13|2017-11-13 19:07:23|   2017-11-14| 119180|  9763|     511|         1434|Science & Technology|\n",
      "|Roy Moore & Jeff ...| Saturday Night Live|  2017-11-12|2017-11-12 05:37:17|   2017-11-14|2103417| 15993|    2445|         1970|       Entertainment|\n",
      "|5 Ice Cream Gadge...|  CrazyRussianHacker|  2017-11-12|2017-11-12 21:50:37|   2017-11-14| 817732| 23663|     778|         3432|Science & Technology|\n",
      "|The Greatest Show...|    20th Century Fox|  2017-11-13|2017-11-13 14:00:23|   2017-11-14| 826059|  3543|     119|          340|    Film & Animation|\n",
      "|Why the rise of t...|                 Vox|  2017-11-13|2017-11-13 13:45:16|   2017-11-14| 256426| 12654|    1363|         2368|     News & Politics|\n",
      "|Dion Lewis' 103-Y...|                 NFL|  2017-11-13|2017-11-13 02:05:26|   2017-11-14|  81377|   655|      25|          177|              Sports|\n",
      "|(SPOILERS) 'Shiva...|                 amc|  2017-11-13|2017-11-13 03:00:00|   2017-11-14| 104578|  1576|     303|         1279|       Entertainment|\n",
      "|Marshmello - Bloc...|          marshmello|  2017-11-13|2017-11-13 17:00:00|   2017-11-14| 687582|114188|    1333|         8371|               Music|\n",
      "|Which Countries A...|       NowThis World|  2017-11-12|2017-11-12 14:00:00|   2017-11-14| 544770|  7848|    1171|         3981|     News & Politics|\n",
      "|SHOPPING FOR NEW ...|     The king of DIY|  2017-11-12|2017-11-12 18:30:01|   2017-11-14| 207532|  7473|     246|         2120|      Pets & Animals|\n",
      "|    The New SpotMini|      BostonDynamics|  2017-11-13|2017-11-13 20:09:58|   2017-11-14|  75752|  9419|      52|         1230|Science & Technology|\n",
      "|One Change That W...|             Cracked|  2017-11-12|2017-11-12 17:00:05|   2017-11-14| 295639|  8011|     638|         1256|              Comedy|\n",
      "|How does your bod...|              TED-Ed|  2017-11-13|2017-11-13 16:00:07|   2017-11-14|  78044|  5398|      53|          385|           Education|\n",
      "|HomeMade Electric...|         PeterSripol|  2017-11-13|2017-11-13 15:30:17|   2017-11-14|  97007| 11963|      36|         2211|Science & Technology|\n",
      "|Founding An Inbre...|             SciShow|  2017-11-12|2017-11-12 22:00:01|   2017-11-14| 223871|  8421|     191|         1214|           Education|\n",
      "+--------------------+--------------------+------------+-------------------+-------------+-------+------+--------+-------------+--------------------+\n",
      "only showing top 20 rows"
     ]
    }
   ],
   "source": [
    "joined_df.show()"
   ]
  },
  {
   "cell_type": "code",
   "execution_count": 63,
   "id": "d7c1dd72",
   "metadata": {},
   "outputs": [
    {
     "data": {
      "application/vnd.jupyter.widget-view+json": {
       "model_id": "27db0c2ba36d4da298d8f1ad8c1a41f0",
       "version_major": 2,
       "version_minor": 0
      },
      "text/plain": [
       "VBox()"
      ]
     },
     "metadata": {},
     "output_type": "display_data"
    },
    {
     "data": {
      "application/vnd.jupyter.widget-view+json": {
       "model_id": "",
       "version_major": 2,
       "version_minor": 0
      },
      "text/plain": [
       "FloatProgress(value=0.0, bar_style='info', description='Progress:', layout=Layout(height='25px', width='50%'),…"
      ]
     },
     "metadata": {},
     "output_type": "display_data"
    },
    {
     "name": "stdout",
     "output_type": "stream",
     "text": [
      "+------------------------------------+--------+------+-------------+\n",
      "|title                               |category|likes |channel_title|\n",
      "+------------------------------------+--------+------+-------------+\n",
      "|Bad Bunny - Amorfoda | Video Oficial|Music   |544514|Bad Bunny    |\n",
      "+------------------------------------+--------+------+-------------+"
     ]
    }
   ],
   "source": [
    "#9. Which video gained most likes which trended same day of being published\n",
    "days_trending_df = joined_df.withColumn(\"trending_days\",f.datediff(\"trending_date\",\"publish_date\"))\n",
    "same_day_trended_videos = days_trending_df.filter(days_trending_df.trending_days==0)\n",
    "same_day_trended_most_liked_video = same_day_trended_videos.orderBy(days_trending_df.likes.desc()).limit(1)\n",
    "same_day_trended_most_liked_video.select(\"title\",\"category\",\"likes\",\"channel_title\").show(truncate=False)"
   ]
  },
  {
   "cell_type": "code",
   "execution_count": 66,
   "id": "1e7717e9",
   "metadata": {},
   "outputs": [
    {
     "data": {
      "application/vnd.jupyter.widget-view+json": {
       "model_id": "a0d5f30983964870b699975b93a2be55",
       "version_major": 2,
       "version_minor": 0
      },
      "text/plain": [
       "VBox()"
      ]
     },
     "metadata": {},
     "output_type": "display_data"
    },
    {
     "data": {
      "application/vnd.jupyter.widget-view+json": {
       "model_id": "",
       "version_major": 2,
       "version_minor": 0
      },
      "text/plain": [
       "FloatProgress(value=0.0, bar_style='info', description='Progress:', layout=Layout(height='25px', width='50%'),…"
      ]
     },
     "metadata": {},
     "output_type": "display_data"
    },
    {
     "name": "stdout",
     "output_type": "stream",
     "text": [
      "+---------------+-------------+\n",
      "|       category|total_trended|\n",
      "+---------------+-------------+\n",
      "|  Entertainment|          845|\n",
      "|         Sports|          623|\n",
      "|News & Politics|          490|\n",
      "| People & Blogs|          338|\n",
      "|          Music|          276|\n",
      "+---------------+-------------+\n",
      "only showing top 5 rows"
     ]
    }
   ],
   "source": [
    "#10. Top 5 categories whose videos went trending same day the most number of times\n",
    "category_same_day_trending = same_day_trended_videos.groupby(\"category\"). \\\n",
    "    agg(f.count(\"trending_days\").alias(\"total_trended\"))\n",
    "top_5_category_same_day_trending = category_same_day_trending.orderBy(f.desc(\"total_trended\"))\n",
    "top_5_category_same_day_trending.show(5)"
   ]
  },
  {
   "cell_type": "code",
   "execution_count": null,
   "id": "82974e7d",
   "metadata": {},
   "outputs": [],
   "source": []
  }
 ],
 "metadata": {
  "kernelspec": {
   "display_name": "PySpark",
   "language": "python",
   "name": "pysparkkernel"
  },
  "language_info": {
   "codemirror_mode": {
    "name": "python",
    "version": 3
   },
   "file_extension": ".py",
   "mimetype": "text/x-python",
   "name": "pyspark",
   "pygments_lexer": "python3"
  }
 },
 "nbformat": 4,
 "nbformat_minor": 5
}
